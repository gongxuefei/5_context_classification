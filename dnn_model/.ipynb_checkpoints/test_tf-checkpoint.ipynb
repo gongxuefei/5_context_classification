{
 "cells": [
  {
   "cell_type": "code",
   "execution_count": 22,
   "metadata": {},
   "outputs": [
    {
     "name": "stdout",
     "output_type": "stream",
     "text": [
      "*** Wx_plus_b ***\n",
      "(2, 10, 300)\n",
      "Wx_plus_b1 [[[ 0.12319638  0.7942971   1.9711509  ...  2.2031994   1.1649561\n",
      "    0.6618636 ]\n",
      "  [-1.1405329  -0.14483096 -0.4913885  ...  1.4144953   0.24537271\n",
      "   -0.5812305 ]\n",
      "  [ 0.42112932  2.1179073   0.07939887 ... -0.17867167 -1.0049429\n",
      "    0.47743303]\n",
      "  ...\n",
      "  [-1.7668406   0.21627726  1.2637266  ...  0.8475343  -0.35628954\n",
      "   -0.4922684 ]\n",
      "  [-0.5056037  -0.01249387  1.0863014  ... -1.3016577  -0.4675104\n",
      "    0.37613553]\n",
      "  [-0.7655786   0.7880246  -0.77889544 ...  0.77041966  0.41449124\n",
      "    0.02349883]]\n",
      "\n",
      " [[-1.2029492  -0.95487875  0.2576616  ...  0.4114918   0.32629395\n",
      "   -2.811447  ]\n",
      "  [-0.33687934  0.03666107 -0.01724625 ...  0.7895672  -0.47072488\n",
      "   -0.9844163 ]\n",
      "  [-0.12335795 -0.43436766  0.42695105 ... -0.07007699  1.1556342\n",
      "    0.708312  ]\n",
      "  ...\n",
      "  [ 1.6701005  -0.5787008   0.17945126 ...  0.507638    0.8318401\n",
      "   -0.08942717]\n",
      "  [ 1.2204175  -0.89157563  0.26883984 ... -0.733146    0.37178624\n",
      "   -0.77011126]\n",
      "  [ 0.95030904 -1.5642263  -1.4332415  ... -0.30478078  0.8462439\n",
      "    1.8176317 ]]]\n"
     ]
    }
   ],
   "source": [
    "import tensorflow as tf\n",
    "import os\n",
    "\n",
    "# 计算Wx_plus_b 的均值与方差,其中axis = [0] 表示想要标准化的维度\n",
    "img_shape = [2, 10, 300]\n",
    "Wx_plus_b = tf.Variable(tf.random_normal(img_shape))\n",
    "axis = list(range(len(img_shape) - 1))\n",
    "wb_mean, wb_var = tf.nn.moments(Wx_plus_b, axis)\n",
    "\n",
    "# scale = tf.Variable(tf.ones([1]))\n",
    "# offset = tf.Variable(tf.zeros([1]))\n",
    "variance_epsilon = 0.001\n",
    "Wx_plus_b = tf.nn.batch_normalization(Wx_plus_b, wb_mean, wb_var, offset, scale, variance_epsilon)\n",
    "\n",
    "\n",
    "global_step = tf.Variable(0, trainable=False, name='global_step')\n",
    "\n",
    "with tf.Session() as sess:\n",
    "    tf.global_variables_initializer().run()\n",
    "    \n",
    "#     print(\"global_step\",global_step)\n",
    "\n",
    "#     print('*** wb_mean ***')\n",
    "#     print(sess.run(wb_mean))\n",
    "#     print('*** wb_var ***')\n",
    "#     print(sess.run(wb_var))\n",
    "    print('*** Wx_plus_b ***')\n",
    "    Wx_plus_b1=sess.run(Wx_plus_b)\n",
    "    print(Wx_plus_b1.shape)\n",
    "    print(\"Wx_plus_b1\",Wx_plus_b1)\n"
   ]
  },
  {
   "cell_type": "code",
   "execution_count": 23,
   "metadata": {},
   "outputs": [
    {
     "data": {
      "text/plain": [
       "[0, 1]"
      ]
     },
     "execution_count": 23,
     "metadata": {},
     "output_type": "execute_result"
    }
   ],
   "source": [
    "axis\n"
   ]
  },
  {
   "cell_type": "code",
   "execution_count": 9,
   "metadata": {},
   "outputs": [],
   "source": [
    "a=('adam',)"
   ]
  },
  {
   "cell_type": "code",
   "execution_count": 12,
   "metadata": {},
   "outputs": [
    {
     "data": {
      "text/plain": [
       "True"
      ]
     },
     "execution_count": 12,
     "metadata": {},
     "output_type": "execute_result"
    }
   ],
   "source": [
    "a[0]=='adam'"
   ]
  },
  {
   "cell_type": "code",
   "execution_count": 19,
   "metadata": {},
   "outputs": [],
   "source": [
    "class TRNNConfig(object):\n",
    "    \"\"\"CNN配置参数\"\"\"\n",
    "\n",
    "    # 数据预处理参数\n",
    "    def __init__(self):\n",
    "#         self.embedding_dim = load_embedding()[2]  # 词向量维度,使用gensim 设置的值\n",
    "        self.seq_length = 10  # 序列长度\n",
    "#         self.num_classes = load_embedding()[3]  # 类别数\n",
    "#         self.vocab_size = load_embedding()[1]  # 词汇表达小 使用gensim 设置的值\n",
    "\n",
    "        # 模型构建参数\n",
    "        self.num_layers = 3  # 隐藏层数\n",
    "        self.hidden_dim = 200  # 全连接层神经元\n",
    "        self.cell_type = 'lstm'  # lstm 或者 gru\n",
    "        self.use_residual = True\n",
    "        self.use_dropout = True\n",
    "        self.time_major = False\n",
    "        self.bidirectional = True\n",
    "        self.dropout_keep_prob = 0.5  # dropout保留比例\n",
    "\n",
    "        # 模型优化参数\n",
    "        self.optimizer = 'adam'\n",
    "        self.learning_rate = 1e-3\n",
    "        self.min_learning_rate = 1e-6\n",
    "        self.global_step = tf.Variable(0, trainable=False)\n",
    "        self.decay_steps = 500\n",
    "        self.max_gradient_norm = 5.0\n",
    "        self.max_decode_step = None\n",
    "\n",
    "        self.batch_size = 128  # 每批训练大小\n",
    "        self.num_epochs = 10  # 总迭代轮次\n",
    "\n",
    "        self.print_per_batch = 10  # 每多少轮输出一次结果\n",
    "        self.save_per_batch = 10  # 每多少轮存入tensorboard"
   ]
  },
  {
   "cell_type": "code",
   "execution_count": 20,
   "metadata": {},
   "outputs": [],
   "source": [
    "config=TRNNConfig()"
   ]
  },
  {
   "cell_type": "code",
   "execution_count": 21,
   "metadata": {},
   "outputs": [
    {
     "data": {
      "text/plain": [
       "'lstm'"
      ]
     },
     "execution_count": 21,
     "metadata": {},
     "output_type": "execute_result"
    }
   ],
   "source": [
    "config.cell_type"
   ]
  },
  {
   "cell_type": "code",
   "execution_count": null,
   "metadata": {},
   "outputs": [],
   "source": [
    "[print(num) for num in self.config.hidden_dim_num]"
   ]
  }
 ],
 "metadata": {
  "kernelspec": {
   "display_name": "Python 3",
   "language": "python",
   "name": "python3"
  },
  "language_info": {
   "codemirror_mode": {
    "name": "ipython",
    "version": 3
   },
   "file_extension": ".py",
   "mimetype": "text/x-python",
   "name": "python",
   "nbconvert_exporter": "python",
   "pygments_lexer": "ipython3",
   "version": "3.6.4"
  }
 },
 "nbformat": 4,
 "nbformat_minor": 2
}
