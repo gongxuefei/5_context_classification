{
 "cells": [
  {
   "cell_type": "code",
   "execution_count": 2,
   "metadata": {},
   "outputs": [],
   "source": [
    "import pandas as pd\n",
    "import numpy as np\n",
    "import re\n",
    "import jieba\n",
    "import jieba.posseg as pseg\n",
    "import os\n",
    "import sys\n",
    "\n",
    "from tqdm import tqdm\n",
    "\n",
    "tqdm.pandas(desc='prep')\n",
    "\n",
    "#正则过滤\n",
    "def f(x):\n",
    "    pattern = '[^\\u4e00-\\u9fa5]+'\n",
    "    return re.compile(pattern).sub('', x)"
   ]
  },
  {
   "cell_type": "code",
   "execution_count": 6,
   "metadata": {},
   "outputs": [],
   "source": [
    "#导入jieba词典\n",
    "jieba.load_userdict('/opt/gongxf/python3_pj/Robot/original_data/finWordDict.txt')"
   ]
  },
  {
   "cell_type": "code",
   "execution_count": 7,
   "metadata": {},
   "outputs": [],
   "source": [
    "#停用词\n",
    "def stopwordslist(filepath):\n",
    "    stopwords = [line.strip() for line in open(filepath, 'r', encoding='utf-8').readlines()]\n",
    "    return stopwords"
   ]
  },
  {
   "cell_type": "code",
   "execution_count": 8,
   "metadata": {},
   "outputs": [],
   "source": [
    "#分词返回空格间隔字符串\n",
    "def seg_sentence(sentence):\n",
    "    sentence_seged = jieba.cut(sentence)\n",
    "    stopwords = stopwordslist('/opt/gongxf/python3_pj/Robot/original_data/stop_words.txt')  # 这里加载停用词的路径\n",
    "    outstr = ''\n",
    "    for word in sentence_seged:\n",
    "        if word not in stopwords:\n",
    "            if word != '\\t':\n",
    "                outstr += word\n",
    "                outstr += \" \"\n",
    "    return outstr\n",
    "\n",
    "def makesentence(sentence):\n",
    "    #sentence = f(sentence)\n",
    "    seg_list = seg_sentence(sentence)\n",
    "    print(seg_list)\n",
    "    return seg_list"
   ]
  },
  {
   "cell_type": "code",
   "execution_count": 10,
   "metadata": {},
   "outputs": [
    {
     "name": "stderr",
     "output_type": "stream",
     "text": [
      "b'Skipping line 3: expected 1 fields, saw 2\\nSkipping line 4: expected 1 fields, saw 3\\nSkipping line 6: expected 1 fields, saw 3\\nSkipping line 14: expected 1 fields, saw 3\\nSkipping line 17: expected 1 fields, saw 5\\nSkipping line 19: expected 1 fields, saw 2\\nSkipping line 20: expected 1 fields, saw 2\\nSkipping line 27: expected 1 fields, saw 3\\nSkipping line 28: expected 1 fields, saw 4\\nSkipping line 29: expected 1 fields, saw 2\\nSkipping line 30: expected 1 fields, saw 2\\nSkipping line 31: expected 1 fields, saw 2\\nSkipping line 32: expected 1 fields, saw 2\\nSkipping line 34: expected 1 fields, saw 2\\nSkipping line 37: expected 1 fields, saw 4\\nSkipping line 38: expected 1 fields, saw 2\\nSkipping line 39: expected 1 fields, saw 2\\nSkipping line 41: expected 1 fields, saw 3\\nSkipping line 49: expected 1 fields, saw 3\\nSkipping line 55: expected 1 fields, saw 4\\nSkipping line 62: expected 1 fields, saw 2\\nSkipping line 65: expected 1 fields, saw 2\\nSkipping line 66: expected 1 fields, saw 2\\nSkipping line 68: expected 1 fields, saw 4\\nSkipping line 69: expected 1 fields, saw 2\\nSkipping line 70: expected 1 fields, saw 2\\nSkipping line 72: expected 1 fields, saw 3\\nSkipping line 73: expected 1 fields, saw 2\\nSkipping line 74: expected 1 fields, saw 3\\nSkipping line 75: expected 1 fields, saw 2\\nSkipping line 80: expected 1 fields, saw 2\\nSkipping line 81: expected 1 fields, saw 6\\nSkipping line 84: expected 1 fields, saw 2\\nSkipping line 85: expected 1 fields, saw 2\\nSkipping line 86: expected 1 fields, saw 3\\nSkipping line 87: expected 1 fields, saw 3\\nSkipping line 89: expected 1 fields, saw 2\\nSkipping line 90: expected 1 fields, saw 3\\nSkipping line 91: expected 1 fields, saw 2\\nSkipping line 93: expected 1 fields, saw 2\\nSkipping line 94: expected 1 fields, saw 2\\nSkipping line 99: expected 1 fields, saw 2\\nSkipping line 100: expected 1 fields, saw 2\\nSkipping line 105: expected 1 fields, saw 5\\nSkipping line 108: expected 1 fields, saw 2\\nSkipping line 111: expected 1 fields, saw 2\\nSkipping line 112: expected 1 fields, saw 2\\nSkipping line 113: expected 1 fields, saw 4\\nSkipping line 114: expected 1 fields, saw 3\\nSkipping line 115: expected 1 fields, saw 7\\nSkipping line 116: expected 1 fields, saw 5\\nSkipping line 118: expected 1 fields, saw 2\\nSkipping line 119: expected 1 fields, saw 11\\nSkipping line 120: expected 1 fields, saw 2\\nSkipping line 122: expected 1 fields, saw 2\\nSkipping line 123: expected 1 fields, saw 4\\nSkipping line 124: expected 1 fields, saw 2\\nSkipping line 127: expected 1 fields, saw 2\\nSkipping line 128: expected 1 fields, saw 4\\nSkipping line 129: expected 1 fields, saw 4\\nSkipping line 134: expected 1 fields, saw 3\\nSkipping line 135: expected 1 fields, saw 3\\nSkipping line 136: expected 1 fields, saw 7\\nSkipping line 137: expected 1 fields, saw 2\\nSkipping line 138: expected 1 fields, saw 8\\nSkipping line 140: expected 1 fields, saw 2\\nSkipping line 141: expected 1 fields, saw 3\\nSkipping line 143: expected 1 fields, saw 4\\nSkipping line 145: expected 1 fields, saw 2\\nSkipping line 148: expected 1 fields, saw 5\\nSkipping line 149: expected 1 fields, saw 2\\nSkipping line 153: expected 1 fields, saw 2\\nSkipping line 154: expected 1 fields, saw 3\\nSkipping line 157: expected 1 fields, saw 2\\nSkipping line 160: expected 1 fields, saw 11\\nSkipping line 161: expected 1 fields, saw 14\\nSkipping line 162: expected 1 fields, saw 13\\nSkipping line 163: expected 1 fields, saw 7\\nSkipping line 164: expected 1 fields, saw 2\\nSkipping line 165: expected 1 fields, saw 5\\nSkipping line 166: expected 1 fields, saw 3\\nSkipping line 168: expected 1 fields, saw 3\\nSkipping line 170: expected 1 fields, saw 8\\nSkipping line 173: expected 1 fields, saw 3\\nSkipping line 174: expected 1 fields, saw 4\\nSkipping line 175: expected 1 fields, saw 2\\nSkipping line 176: expected 1 fields, saw 6\\nSkipping line 177: expected 1 fields, saw 2\\nSkipping line 179: expected 1 fields, saw 4\\nSkipping line 183: expected 1 fields, saw 2\\nSkipping line 186: expected 1 fields, saw 2\\nSkipping line 188: expected 1 fields, saw 3\\nSkipping line 189: expected 1 fields, saw 4\\nSkipping line 190: expected 1 fields, saw 3\\nSkipping line 191: expected 1 fields, saw 4\\nSkipping line 192: expected 1 fields, saw 3\\nSkipping line 194: expected 1 fields, saw 3\\nSkipping line 196: expected 1 fields, saw 2\\nSkipping line 198: expected 1 fields, saw 3\\nSkipping line 201: expected 1 fields, saw 3\\nSkipping line 202: expected 1 fields, saw 4\\nSkipping line 203: expected 1 fields, saw 2\\nSkipping line 204: expected 1 fields, saw 4\\nSkipping line 206: expected 1 fields, saw 9\\nSkipping line 207: expected 1 fields, saw 3\\nSkipping line 208: expected 1 fields, saw 4\\nSkipping line 209: expected 1 fields, saw 3\\nSkipping line 210: expected 1 fields, saw 2\\nSkipping line 212: expected 1 fields, saw 4\\nSkipping line 214: expected 1 fields, saw 2\\nSkipping line 216: expected 1 fields, saw 3\\nSkipping line 218: expected 1 fields, saw 2\\nSkipping line 220: expected 1 fields, saw 3\\nSkipping line 225: expected 1 fields, saw 2\\nSkipping line 227: expected 1 fields, saw 3\\nSkipping line 229: expected 1 fields, saw 3\\nSkipping line 231: expected 1 fields, saw 2\\nSkipping line 233: expected 1 fields, saw 3\\nSkipping line 236: expected 1 fields, saw 3\\nSkipping line 237: expected 1 fields, saw 2\\nSkipping line 238: expected 1 fields, saw 3\\nSkipping line 239: expected 1 fields, saw 4\\nSkipping line 241: expected 1 fields, saw 2\\nSkipping line 243: expected 1 fields, saw 3\\nSkipping line 244: expected 1 fields, saw 5\\nSkipping line 248: expected 1 fields, saw 7\\nSkipping line 249: expected 1 fields, saw 3\\nSkipping line 250: expected 1 fields, saw 2\\nSkipping line 251: expected 1 fields, saw 7\\nSkipping line 252: expected 1 fields, saw 5\\nSkipping line 255: expected 1 fields, saw 3\\nSkipping line 256: expected 1 fields, saw 6\\nSkipping line 257: expected 1 fields, saw 3\\nSkipping line 259: expected 1 fields, saw 3\\nSkipping line 261: expected 1 fields, saw 2\\nSkipping line 263: expected 1 fields, saw 3\\nSkipping line 266: expected 1 fields, saw 3\\nSkipping line 267: expected 1 fields, saw 3\\nSkipping line 268: expected 1 fields, saw 2\\nSkipping line 269: expected 1 fields, saw 3\\nSkipping line 271: expected 1 fields, saw 3\\nSkipping line 273: expected 1 fields, saw 2\\nSkipping line 275: expected 1 fields, saw 3\\nSkipping line 278: expected 1 fields, saw 3\\nSkipping line 279: expected 1 fields, saw 2\\nSkipping line 280: expected 1 fields, saw 3\\nSkipping line 281: expected 1 fields, saw 4\\nSkipping line 283: expected 1 fields, saw 2\\nSkipping line 285: expected 1 fields, saw 3\\nSkipping line 286: expected 1 fields, saw 5\\nSkipping line 290: expected 1 fields, saw 7\\nSkipping line 291: expected 1 fields, saw 3\\nSkipping line 293: expected 1 fields, saw 2\\nSkipping line 295: expected 1 fields, saw 2\\nSkipping line 296: expected 1 fields, saw 4\\nSkipping line 297: expected 1 fields, saw 3\\nSkipping line 298: expected 1 fields, saw 2\\nSkipping line 302: expected 1 fields, saw 2\\nSkipping line 303: expected 1 fields, saw 3\\nSkipping line 304: expected 1 fields, saw 9\\nSkipping line 305: expected 1 fields, saw 2\\nSkipping line 306: expected 1 fields, saw 4\\nSkipping line 308: expected 1 fields, saw 5\\nSkipping line 309: expected 1 fields, saw 10\\nSkipping line 310: expected 1 fields, saw 2\\nSkipping line 311: expected 1 fields, saw 2\\nSkipping line 313: expected 1 fields, saw 2\\nSkipping line 316: expected 1 fields, saw 7\\nSkipping line 321: expected 1 fields, saw 2\\nSkipping line 322: expected 1 fields, saw 3\\nSkipping line 323: expected 1 fields, saw 2\\nSkipping line 324: expected 1 fields, saw 3\\nSkipping line 325: expected 1 fields, saw 2\\nSkipping line 326: expected 1 fields, saw 2\\nSkipping line 332: expected 1 fields, saw 2\\nSkipping line 333: expected 1 fields, saw 2\\nSkipping line 334: expected 1 fields, saw 6\\nSkipping line 337: expected 1 fields, saw 2\\nSkipping line 338: expected 1 fields, saw 2\\nSkipping line 339: expected 1 fields, saw 2\\nSkipping line 341: expected 1 fields, saw 4\\nSkipping line 343: expected 1 fields, saw 6\\nSkipping line 344: expected 1 fields, saw 2\\nSkipping line 345: expected 1 fields, saw 3\\nSkipping line 346: expected 1 fields, saw 4\\nSkipping line 347: expected 1 fields, saw 8\\nSkipping line 348: expected 1 fields, saw 3\\nSkipping line 349: expected 1 fields, saw 8\\nSkipping line 350: expected 1 fields, saw 5\\nSkipping line 351: expected 1 fields, saw 2\\nSkipping line 352: expected 1 fields, saw 7\\nSkipping line 354: expected 1 fields, saw 3\\nSkipping line 355: expected 1 fields, saw 3\\nSkipping line 356: expected 1 fields, saw 2\\nSkipping line 357: expected 1 fields, saw 3\\nSkipping line 358: expected 1 fields, saw 3\\nSkipping line 361: expected 1 fields, saw 2\\nSkipping line 362: expected 1 fields, saw 6\\nSkipping line 363: expected 1 fields, saw 4\\nSkipping line 364: expected 1 fields, saw 4\\nSkipping line 365: expected 1 fields, saw 3\\nSkipping line 366: expected 1 fields, saw 7\\nSkipping line 368: expected 1 fields, saw 3\\nSkipping line 369: expected 1 fields, saw 2\\nSkipping line 370: expected 1 fields, saw 8\\nSkipping line 371: expected 1 fields, saw 3\\nSkipping line 377: expected 1 fields, saw 2\\nSkipping line 379: expected 1 fields, saw 2\\nSkipping line 381: expected 1 fields, saw 3\\nSkipping line 384: expected 1 fields, saw 3\\nSkipping line 386: expected 1 fields, saw 4\\nSkipping line 390: expected 1 fields, saw 2\\nSkipping line 396: expected 1 fields, saw 3\\nSkipping line 400: expected 1 fields, saw 2\\nSkipping line 401: expected 1 fields, saw 2\\nSkipping line 409: expected 1 fields, saw 2\\nSkipping line 418: expected 1 fields, saw 2\\nSkipping line 421: expected 1 fields, saw 3\\nSkipping line 425: expected 1 fields, saw 2\\nSkipping line 429: expected 1 fields, saw 2\\nSkipping line 434: expected 1 fields, saw 2\\nSkipping line 436: expected 1 fields, saw 4\\nSkipping line 437: expected 1 fields, saw 2\\nSkipping line 438: expected 1 fields, saw 2\\nSkipping line 440: expected 1 fields, saw 2\\nSkipping line 441: expected 1 fields, saw 2\\nSkipping line 444: expected 1 fields, saw 3\\nSkipping line 445: expected 1 fields, saw 2\\nSkipping line 446: expected 1 fields, saw 2\\nSkipping line 447: expected 1 fields, saw 2\\nSkipping line 448: expected 1 fields, saw 2\\nSkipping line 460: expected 1 fields, saw 2\\nSkipping line 469: expected 1 fields, saw 4\\nSkipping line 471: expected 1 fields, saw 2\\nSkipping line 476: expected 1 fields, saw 2\\nSkipping line 480: expected 1 fields, saw 2\\nSkipping line 482: expected 1 fields, saw 2\\nSkipping line 483: expected 1 fields, saw 3\\nSkipping line 487: expected 1 fields, saw 2\\nSkipping line 490: expected 1 fields, saw 2\\nSkipping line 491: expected 1 fields, saw 3\\nSkipping line 497: expected 1 fields, saw 2\\nSkipping line 502: expected 1 fields, saw 2\\nSkipping line 503: expected 1 fields, saw 2\\nSkipping line 505: expected 1 fields, saw 2\\nSkipping line 507: expected 1 fields, saw 2\\nSkipping line 509: expected 1 fields, saw 3\\nSkipping line 514: expected 1 fields, saw 2\\nSkipping line 515: expected 1 fields, saw 2\\nSkipping line 516: expected 1 fields, saw 4\\nSkipping line 517: expected 1 fields, saw 2\\nSkipping line 518: expected 1 fields, saw 3\\nSkipping line 519: expected 1 fields, saw 4\\nSkipping line 520: expected 1 fields, saw 2\\nSkipping line 521: expected 1 fields, saw 3\\nSkipping line 524: expected 1 fields, saw 4\\nSkipping line 525: expected 1 fields, saw 2\\nSkipping line 526: expected 1 fields, saw 2\\nSkipping line 528: expected 1 fields, saw 2\\nSkipping line 530: expected 1 fields, saw 4\\nSkipping line 532: expected 1 fields, saw 2\\nSkipping line 533: expected 1 fields, saw 4\\nSkipping line 535: expected 1 fields, saw 2\\nSkipping line 537: expected 1 fields, saw 3\\nSkipping line 541: expected 1 fields, saw 4\\nSkipping line 542: expected 1 fields, saw 2\\nSkipping line 544: expected 1 fields, saw 2\\nSkipping line 552: expected 1 fields, saw 2\\nSkipping line 554: expected 1 fields, saw 2\\nSkipping line 557: expected 1 fields, saw 2\\nSkipping line 561: expected 1 fields, saw 3\\nSkipping line 579: expected 1 fields, saw 2\\nSkipping line 591: expected 1 fields, saw 2\\nSkipping line 596: expected 1 fields, saw 2\\nSkipping line 611: expected 1 fields, saw 3\\nSkipping line 627: expected 1 fields, saw 3\\nSkipping line 637: expected 1 fields, saw 2\\nSkipping line 657: expected 1 fields, saw 2\\nSkipping line 673: expected 1 fields, saw 2\\nSkipping line 678: expected 1 fields, saw 2\\nSkipping line 683: expected 1 fields, saw 2\\nSkipping line 692: expected 1 fields, saw 2\\nSkipping line 695: expected 1 fields, saw 2\\nSkipping line 696: expected 1 fields, saw 2\\nSkipping line 703: expected 1 fields, saw 2\\nSkipping line 733: expected 1 fields, saw 2\\nSkipping line 735: expected 1 fields, saw 3\\nSkipping line 740: expected 1 fields, saw 2\\nSkipping line 741: expected 1 fields, saw 2\\nSkipping line 747: expected 1 fields, saw 2\\nSkipping line 750: expected 1 fields, saw 2\\nSkipping line 751: expected 1 fields, saw 3\\n'\n"
     ]
    },
    {
     "ename": "ParserError",
     "evalue": "Error tokenizing data. C error: Buffer overflow caught - possible malformed input file.\n",
     "output_type": "error",
     "traceback": [
      "\u001b[0;31m---------------------------------------------------------------------------\u001b[0m",
      "\u001b[0;31mParserError\u001b[0m                               Traceback (most recent call last)",
      "\u001b[0;32m<ipython-input-10-01f497a4734d>\u001b[0m in \u001b[0;36m<module>\u001b[0;34m()\u001b[0m\n\u001b[1;32m      1\u001b[0m \u001b[0;31m#df=pd.read_csv('./finance_knowledge.csv',sep=',',encoding='UTF-8',error_bad_lines=False, dtype={'ID':str,'terminalcode1':str,'id-pc':str,'相似问id':str})\u001b[0m\u001b[0;34m\u001b[0m\u001b[0;34m\u001b[0m\u001b[0m\n\u001b[0;32m----> 2\u001b[0;31m \u001b[0mdf\u001b[0m\u001b[0;34m=\u001b[0m\u001b[0mpd\u001b[0m\u001b[0;34m.\u001b[0m\u001b[0mread_table\u001b[0m\u001b[0;34m(\u001b[0m\u001b[0;34m'data/zhishiku_07132.xlsx'\u001b[0m\u001b[0;34m,\u001b[0m\u001b[0msep\u001b[0m\u001b[0;34m=\u001b[0m\u001b[0;34m','\u001b[0m\u001b[0;34m,\u001b[0m\u001b[0mencoding\u001b[0m\u001b[0;34m=\u001b[0m\u001b[0;34m'UTF-8'\u001b[0m\u001b[0;34m,\u001b[0m\u001b[0merror_bad_lines\u001b[0m\u001b[0;34m=\u001b[0m\u001b[0;32mFalse\u001b[0m\u001b[0;34m,\u001b[0m \u001b[0mdtype\u001b[0m\u001b[0;34m=\u001b[0m\u001b[0;34m{\u001b[0m\u001b[0;34m'CATEG_ID'\u001b[0m\u001b[0;34m:\u001b[0m\u001b[0mstr\u001b[0m\u001b[0;34m,\u001b[0m\u001b[0;34m'STANDARD_QUESTION'\u001b[0m\u001b[0;34m:\u001b[0m\u001b[0mstr\u001b[0m\u001b[0;34m}\u001b[0m\u001b[0;34m)\u001b[0m\u001b[0;34m\u001b[0m\u001b[0m\n\u001b[0m",
      "\u001b[0;32m/opt/gongxf/anaconda3/lib/python3.6/site-packages/pandas/io/parsers.py\u001b[0m in \u001b[0;36mparser_f\u001b[0;34m(filepath_or_buffer, sep, delimiter, header, names, index_col, usecols, squeeze, prefix, mangle_dupe_cols, dtype, engine, converters, true_values, false_values, skipinitialspace, skiprows, nrows, na_values, keep_default_na, na_filter, verbose, skip_blank_lines, parse_dates, infer_datetime_format, keep_date_col, date_parser, dayfirst, iterator, chunksize, compression, thousands, decimal, lineterminator, quotechar, quoting, escapechar, comment, encoding, dialect, tupleize_cols, error_bad_lines, warn_bad_lines, skipfooter, skip_footer, doublequote, delim_whitespace, as_recarray, compact_ints, use_unsigned, low_memory, buffer_lines, memory_map, float_precision)\u001b[0m\n\u001b[1;32m    707\u001b[0m                     skip_blank_lines=skip_blank_lines)\n\u001b[1;32m    708\u001b[0m \u001b[0;34m\u001b[0m\u001b[0m\n\u001b[0;32m--> 709\u001b[0;31m         \u001b[0;32mreturn\u001b[0m \u001b[0m_read\u001b[0m\u001b[0;34m(\u001b[0m\u001b[0mfilepath_or_buffer\u001b[0m\u001b[0;34m,\u001b[0m \u001b[0mkwds\u001b[0m\u001b[0;34m)\u001b[0m\u001b[0;34m\u001b[0m\u001b[0m\n\u001b[0m\u001b[1;32m    710\u001b[0m \u001b[0;34m\u001b[0m\u001b[0m\n\u001b[1;32m    711\u001b[0m     \u001b[0mparser_f\u001b[0m\u001b[0;34m.\u001b[0m\u001b[0m__name__\u001b[0m \u001b[0;34m=\u001b[0m \u001b[0mname\u001b[0m\u001b[0;34m\u001b[0m\u001b[0m\n",
      "\u001b[0;32m/opt/gongxf/anaconda3/lib/python3.6/site-packages/pandas/io/parsers.py\u001b[0m in \u001b[0;36m_read\u001b[0;34m(filepath_or_buffer, kwds)\u001b[0m\n\u001b[1;32m    453\u001b[0m \u001b[0;34m\u001b[0m\u001b[0m\n\u001b[1;32m    454\u001b[0m     \u001b[0;32mtry\u001b[0m\u001b[0;34m:\u001b[0m\u001b[0;34m\u001b[0m\u001b[0m\n\u001b[0;32m--> 455\u001b[0;31m         \u001b[0mdata\u001b[0m \u001b[0;34m=\u001b[0m \u001b[0mparser\u001b[0m\u001b[0;34m.\u001b[0m\u001b[0mread\u001b[0m\u001b[0;34m(\u001b[0m\u001b[0mnrows\u001b[0m\u001b[0;34m)\u001b[0m\u001b[0;34m\u001b[0m\u001b[0m\n\u001b[0m\u001b[1;32m    456\u001b[0m     \u001b[0;32mfinally\u001b[0m\u001b[0;34m:\u001b[0m\u001b[0;34m\u001b[0m\u001b[0m\n\u001b[1;32m    457\u001b[0m         \u001b[0mparser\u001b[0m\u001b[0;34m.\u001b[0m\u001b[0mclose\u001b[0m\u001b[0;34m(\u001b[0m\u001b[0;34m)\u001b[0m\u001b[0;34m\u001b[0m\u001b[0m\n",
      "\u001b[0;32m/opt/gongxf/anaconda3/lib/python3.6/site-packages/pandas/io/parsers.py\u001b[0m in \u001b[0;36mread\u001b[0;34m(self, nrows)\u001b[0m\n\u001b[1;32m   1067\u001b[0m                 \u001b[0;32mraise\u001b[0m \u001b[0mValueError\u001b[0m\u001b[0;34m(\u001b[0m\u001b[0;34m'skipfooter not supported for iteration'\u001b[0m\u001b[0;34m)\u001b[0m\u001b[0;34m\u001b[0m\u001b[0m\n\u001b[1;32m   1068\u001b[0m \u001b[0;34m\u001b[0m\u001b[0m\n\u001b[0;32m-> 1069\u001b[0;31m         \u001b[0mret\u001b[0m \u001b[0;34m=\u001b[0m \u001b[0mself\u001b[0m\u001b[0;34m.\u001b[0m\u001b[0m_engine\u001b[0m\u001b[0;34m.\u001b[0m\u001b[0mread\u001b[0m\u001b[0;34m(\u001b[0m\u001b[0mnrows\u001b[0m\u001b[0;34m)\u001b[0m\u001b[0;34m\u001b[0m\u001b[0m\n\u001b[0m\u001b[1;32m   1070\u001b[0m \u001b[0;34m\u001b[0m\u001b[0m\n\u001b[1;32m   1071\u001b[0m         \u001b[0;32mif\u001b[0m \u001b[0mself\u001b[0m\u001b[0;34m.\u001b[0m\u001b[0moptions\u001b[0m\u001b[0;34m.\u001b[0m\u001b[0mget\u001b[0m\u001b[0;34m(\u001b[0m\u001b[0;34m'as_recarray'\u001b[0m\u001b[0;34m)\u001b[0m\u001b[0;34m:\u001b[0m\u001b[0;34m\u001b[0m\u001b[0m\n",
      "\u001b[0;32m/opt/gongxf/anaconda3/lib/python3.6/site-packages/pandas/io/parsers.py\u001b[0m in \u001b[0;36mread\u001b[0;34m(self, nrows)\u001b[0m\n\u001b[1;32m   1837\u001b[0m     \u001b[0;32mdef\u001b[0m \u001b[0mread\u001b[0m\u001b[0;34m(\u001b[0m\u001b[0mself\u001b[0m\u001b[0;34m,\u001b[0m \u001b[0mnrows\u001b[0m\u001b[0;34m=\u001b[0m\u001b[0;32mNone\u001b[0m\u001b[0;34m)\u001b[0m\u001b[0;34m:\u001b[0m\u001b[0;34m\u001b[0m\u001b[0m\n\u001b[1;32m   1838\u001b[0m         \u001b[0;32mtry\u001b[0m\u001b[0;34m:\u001b[0m\u001b[0;34m\u001b[0m\u001b[0m\n\u001b[0;32m-> 1839\u001b[0;31m             \u001b[0mdata\u001b[0m \u001b[0;34m=\u001b[0m \u001b[0mself\u001b[0m\u001b[0;34m.\u001b[0m\u001b[0m_reader\u001b[0m\u001b[0;34m.\u001b[0m\u001b[0mread\u001b[0m\u001b[0;34m(\u001b[0m\u001b[0mnrows\u001b[0m\u001b[0;34m)\u001b[0m\u001b[0;34m\u001b[0m\u001b[0m\n\u001b[0m\u001b[1;32m   1840\u001b[0m         \u001b[0;32mexcept\u001b[0m \u001b[0mStopIteration\u001b[0m\u001b[0;34m:\u001b[0m\u001b[0;34m\u001b[0m\u001b[0m\n\u001b[1;32m   1841\u001b[0m             \u001b[0;32mif\u001b[0m \u001b[0mself\u001b[0m\u001b[0;34m.\u001b[0m\u001b[0m_first_chunk\u001b[0m\u001b[0;34m:\u001b[0m\u001b[0;34m\u001b[0m\u001b[0m\n",
      "\u001b[0;32mpandas/_libs/parsers.pyx\u001b[0m in \u001b[0;36mpandas._libs.parsers.TextReader.read\u001b[0;34m()\u001b[0m\n",
      "\u001b[0;32mpandas/_libs/parsers.pyx\u001b[0m in \u001b[0;36mpandas._libs.parsers.TextReader._read_low_memory\u001b[0;34m()\u001b[0m\n",
      "\u001b[0;32mpandas/_libs/parsers.pyx\u001b[0m in \u001b[0;36mpandas._libs.parsers.TextReader._read_rows\u001b[0;34m()\u001b[0m\n",
      "\u001b[0;32mpandas/_libs/parsers.pyx\u001b[0m in \u001b[0;36mpandas._libs.parsers.TextReader._tokenize_rows\u001b[0;34m()\u001b[0m\n",
      "\u001b[0;32mpandas/_libs/parsers.pyx\u001b[0m in \u001b[0;36mpandas._libs.parsers.raise_parser_error\u001b[0;34m()\u001b[0m\n",
      "\u001b[0;31mParserError\u001b[0m: Error tokenizing data. C error: Buffer overflow caught - possible malformed input file.\n"
     ]
    }
   ],
   "source": [
    "#df=pd.read_csv('./finance_knowledge.csv',sep=',',encoding='UTF-8',error_bad_lines=False, dtype={'ID':str,'terminalcode1':str,'id-pc':str,'相似问id':str})\n",
    "df=pd.read_table('data/zhishiku_07132.xlsx',sep=',',encoding='UTF-8',error_bad_lines=False, dtype={'CATEG_ID':str,'STANDARD_QUESTION':str})"
   ]
  },
  {
   "cell_type": "code",
   "execution_count": 1,
   "metadata": {},
   "outputs": [
    {
     "ename": "NameError",
     "evalue": "name 'df' is not defined",
     "output_type": "error",
     "traceback": [
      "\u001b[0;31m---------------------------------------------------------------------------\u001b[0m",
      "\u001b[0;31mNameError\u001b[0m                                 Traceback (most recent call last)",
      "\u001b[0;32m<ipython-input-1-5cc0934cc03c>\u001b[0m in \u001b[0;36m<module>\u001b[0;34m()\u001b[0m\n\u001b[0;32m----> 1\u001b[0;31m \u001b[0mdf\u001b[0m\u001b[0;34m.\u001b[0m\u001b[0mdtypes\u001b[0m\u001b[0;34m\u001b[0m\u001b[0m\n\u001b[0m",
      "\u001b[0;31mNameError\u001b[0m: name 'df' is not defined"
     ]
    }
   ],
   "source": [
    "df.dtypes"
   ]
  },
  {
   "cell_type": "code",
   "execution_count": 9,
   "metadata": {
    "scrolled": true
   },
   "outputs": [
    {
     "data": {
      "text/html": [
       "<div>\n",
       "<style scoped>\n",
       "    .dataframe tbody tr th:only-of-type {\n",
       "        vertical-align: middle;\n",
       "    }\n",
       "\n",
       "    .dataframe tbody tr th {\n",
       "        vertical-align: top;\n",
       "    }\n",
       "\n",
       "    .dataframe thead th {\n",
       "        text-align: right;\n",
       "    }\n",
       "</style>\n",
       "<table border=\"1\" class=\"dataframe\">\n",
       "  <thead>\n",
       "    <tr style=\"text-align: right;\">\n",
       "      <th></th>\n",
       "      <th>ID</th>\n",
       "      <th>CATEG_ID</th>\n",
       "      <th>STANDARD_QUESTION</th>\n",
       "      <th>相似问id</th>\n",
       "      <th>DEFAULT_ANSWER</th>\n",
       "      <th>terminalcode1</th>\n",
       "      <th>id-pc</th>\n",
       "      <th>pc答案</th>\n",
       "      <th>terminalcode1.1</th>\n",
       "      <th>Unnamed: 9</th>\n",
       "      <th>...</th>\n",
       "      <th>微信答案</th>\n",
       "      <th>Unnamed: 18</th>\n",
       "      <th>Unnamed: 19</th>\n",
       "      <th>Unnamed: 20</th>\n",
       "      <th>Unnamed: 21</th>\n",
       "      <th>Unnamed: 22</th>\n",
       "      <th>Unnamed: 23</th>\n",
       "      <th>Unnamed: 24</th>\n",
       "      <th>Unnamed: 25</th>\n",
       "      <th>Unnamed: 26</th>\n",
       "    </tr>\n",
       "  </thead>\n",
       "  <tbody>\n",
       "    <tr>\n",
       "      <th>0</th>\n",
       "      <td>3420</td>\n",
       "      <td>信用卡</td>\n",
       "      <td>怎么分期付款</td>\n",
       "      <td>NaN</td>\n",
       "      <td>您好，分期付款您可以在下单结算界面选择“信用卡分期”，支付成功后，银行会一次性扣除总金额，后...</td>\n",
       "      <td>20001</td>\n",
       "      <td>46614.0</td>\n",
       "      <td>亲亲已开通任性付且额度够的话，您可选择任性付分期提交订单，3/6/9/12期都是可以的哦（部...</td>\n",
       "      <td>NaN</td>\n",
       "      <td>20002</td>\n",
       "      <td>...</td>\n",
       "      <td>NaN</td>\n",
       "      <td>NaN</td>\n",
       "      <td>NaN</td>\n",
       "      <td>NaN</td>\n",
       "      <td>NaN</td>\n",
       "      <td>NaN</td>\n",
       "      <td>NaN</td>\n",
       "      <td>NaN</td>\n",
       "      <td>NaN</td>\n",
       "      <td>NaN</td>\n",
       "    </tr>\n",
       "  </tbody>\n",
       "</table>\n",
       "<p>1 rows × 27 columns</p>\n",
       "</div>"
      ],
      "text/plain": [
       "     ID CATEG_ID STANDARD_QUESTION  相似问id  \\\n",
       "0  3420      信用卡            怎么分期付款    NaN   \n",
       "\n",
       "                                      DEFAULT_ANSWER  terminalcode1    id-pc  \\\n",
       "0  您好，分期付款您可以在下单结算界面选择“信用卡分期”，支付成功后，银行会一次性扣除总金额，后...          20001  46614.0   \n",
       "\n",
       "                                                pc答案  terminalcode1.1  \\\n",
       "0  亲亲已开通任性付且额度够的话，您可选择任性付分期提交订单，3/6/9/12期都是可以的哦（部...              NaN   \n",
       "\n",
       "   Unnamed: 9     ...       微信答案 Unnamed: 18  Unnamed: 19  Unnamed: 20  \\\n",
       "0       20002     ...        NaN         NaN          NaN          NaN   \n",
       "\n",
       "  Unnamed: 21  Unnamed: 22  Unnamed: 23 Unnamed: 24  Unnamed: 25  Unnamed: 26  \n",
       "0         NaN          NaN          NaN         NaN          NaN          NaN  \n",
       "\n",
       "[1 rows x 27 columns]"
      ]
     },
     "execution_count": 9,
     "metadata": {},
     "output_type": "execute_result"
    }
   ],
   "source": [
    "df.head(1)"
   ]
  },
  {
   "cell_type": "code",
   "execution_count": 91,
   "metadata": {},
   "outputs": [],
   "source": [
    "#对整个数据集做上采样，然后在分成测试集与训练集\n",
    "#df = df.sample(n=20000,replace=True)"
   ]
  },
  {
   "cell_type": "code",
   "execution_count": 11,
   "metadata": {},
   "outputs": [],
   "source": [
    "#df1 = df[['CATEG_ID','STANDARD_QUESTION','new_ques']]\n",
    "df1 = df[['CATEG_ID','STANDARD_QUESTION']]"
   ]
  },
  {
   "cell_type": "code",
   "execution_count": 12,
   "metadata": {},
   "outputs": [
    {
     "data": {
      "text/html": [
       "<div>\n",
       "<style scoped>\n",
       "    .dataframe tbody tr th:only-of-type {\n",
       "        vertical-align: middle;\n",
       "    }\n",
       "\n",
       "    .dataframe tbody tr th {\n",
       "        vertical-align: top;\n",
       "    }\n",
       "\n",
       "    .dataframe thead th {\n",
       "        text-align: right;\n",
       "    }\n",
       "</style>\n",
       "<table border=\"1\" class=\"dataframe\">\n",
       "  <thead>\n",
       "    <tr style=\"text-align: right;\">\n",
       "      <th></th>\n",
       "      <th>CATEG_ID</th>\n",
       "      <th>STANDARD_QUESTION</th>\n",
       "    </tr>\n",
       "  </thead>\n",
       "  <tbody>\n",
       "    <tr>\n",
       "      <th>0</th>\n",
       "      <td>信用卡</td>\n",
       "      <td>怎么分期付款</td>\n",
       "    </tr>\n",
       "    <tr>\n",
       "      <th>1</th>\n",
       "      <td>信用卡</td>\n",
       "      <td>18周岁才能分期吗</td>\n",
       "    </tr>\n",
       "  </tbody>\n",
       "</table>\n",
       "</div>"
      ],
      "text/plain": [
       "  CATEG_ID STANDARD_QUESTION\n",
       "0      信用卡            怎么分期付款\n",
       "1      信用卡         18周岁才能分期吗"
      ]
     },
     "execution_count": 12,
     "metadata": {},
     "output_type": "execute_result"
    }
   ],
   "source": [
    "df1.head(2)"
   ]
  },
  {
   "cell_type": "code",
   "execution_count": 13,
   "metadata": {},
   "outputs": [
    {
     "data": {
      "text/plain": [
       "6037"
      ]
     },
     "execution_count": 13,
     "metadata": {},
     "output_type": "execute_result"
    }
   ],
   "source": [
    "df1.iloc[:,0].size"
   ]
  },
  {
   "cell_type": "code",
   "execution_count": 14,
   "metadata": {},
   "outputs": [
    {
     "data": {
      "text/plain": [
       "2"
      ]
     },
     "execution_count": 14,
     "metadata": {},
     "output_type": "execute_result"
    }
   ],
   "source": [
    "df1.columns.size"
   ]
  },
  {
   "cell_type": "code",
   "execution_count": 15,
   "metadata": {},
   "outputs": [
    {
     "name": "stderr",
     "output_type": "stream",
     "text": [
      "/opt/typ/anaconda3/lib/python3.6/site-packages/sklearn/cross_validation.py:41: DeprecationWarning: This module was deprecated in version 0.18 in favor of the model_selection module into which all the refactored classes and functions are moved. Also note that the interface of the new CV iterators are different from that of this module. This module will be removed in 0.20.\n",
      "  \"This module will be removed in 0.20.\", DeprecationWarning)\n"
     ]
    }
   ],
   "source": [
    "#区分训练集与测试集\n",
    "#train_data = df.sample(frac=0.7,replace=True)  \n",
    "from sklearn.cross_validation import train_test_split\n",
    "\n",
    "#dat为数据集,含有feature和label.\n",
    "traind, testd = train_test_split(df1, test_size = 0.3)"
   ]
  },
  {
   "cell_type": "code",
   "execution_count": 16,
   "metadata": {},
   "outputs": [
    {
     "data": {
      "text/plain": [
       "4225"
      ]
     },
     "execution_count": 16,
     "metadata": {},
     "output_type": "execute_result"
    }
   ],
   "source": [
    "traind.iloc[:,0].size"
   ]
  },
  {
   "cell_type": "code",
   "execution_count": 38,
   "metadata": {},
   "outputs": [
    {
     "data": {
      "text/html": [
       "<div>\n",
       "<style scoped>\n",
       "    .dataframe tbody tr th:only-of-type {\n",
       "        vertical-align: middle;\n",
       "    }\n",
       "\n",
       "    .dataframe tbody tr th {\n",
       "        vertical-align: top;\n",
       "    }\n",
       "\n",
       "    .dataframe thead th {\n",
       "        text-align: right;\n",
       "    }\n",
       "</style>\n",
       "<table border=\"1\" class=\"dataframe\">\n",
       "  <thead>\n",
       "    <tr style=\"text-align: right;\">\n",
       "      <th></th>\n",
       "      <th>num</th>\n",
       "    </tr>\n",
       "    <tr>\n",
       "      <th>CATEG_ID</th>\n",
       "      <th></th>\n",
       "    </tr>\n",
       "  </thead>\n",
       "  <tbody>\n",
       "    <tr>\n",
       "      <th>任性付</th>\n",
       "      <td>1249</td>\n",
       "    </tr>\n",
       "    <tr>\n",
       "      <th>任性贷</th>\n",
       "      <td>871</td>\n",
       "    </tr>\n",
       "    <tr>\n",
       "      <th>促销</th>\n",
       "      <td>127</td>\n",
       "    </tr>\n",
       "    <tr>\n",
       "      <th>保险</th>\n",
       "      <td>70</td>\n",
       "    </tr>\n",
       "    <tr>\n",
       "      <th>信用卡</th>\n",
       "      <td>303</td>\n",
       "    </tr>\n",
       "    <tr>\n",
       "      <th>支付</th>\n",
       "      <td>80</td>\n",
       "    </tr>\n",
       "    <tr>\n",
       "      <th>易付宝账户</th>\n",
       "      <td>586</td>\n",
       "    </tr>\n",
       "    <tr>\n",
       "      <th>理财</th>\n",
       "      <td>443</td>\n",
       "    </tr>\n",
       "    <tr>\n",
       "      <th>苏宁卡</th>\n",
       "      <td>213</td>\n",
       "    </tr>\n",
       "    <tr>\n",
       "      <th>转账</th>\n",
       "      <td>67</td>\n",
       "    </tr>\n",
       "    <tr>\n",
       "      <th>零钱宝</th>\n",
       "      <td>194</td>\n",
       "    </tr>\n",
       "    <tr>\n",
       "      <th>风险</th>\n",
       "      <td>22</td>\n",
       "    </tr>\n",
       "  </tbody>\n",
       "</table>\n",
       "</div>"
      ],
      "text/plain": [
       "           num\n",
       "CATEG_ID      \n",
       "任性付       1249\n",
       "任性贷        871\n",
       "促销         127\n",
       "保险          70\n",
       "信用卡        303\n",
       "支付          80\n",
       "易付宝账户      586\n",
       "理财         443\n",
       "苏宁卡        213\n",
       "转账          67\n",
       "零钱宝        194\n",
       "风险          22"
      ]
     },
     "execution_count": 38,
     "metadata": {},
     "output_type": "execute_result"
    }
   ],
   "source": [
    "#针对训练数据进行上采样\n",
    "#需要增加的数据类别包括：促销，保险，支付，转账，风险\n",
    "traind_fenlei = traind[['CATEG_ID']]\n",
    "traind_fenlei['num']= 1\n",
    "traind_fenlei.groupby('CATEG_ID').sum()\n",
    "#traind= traind.sample(20000,replace=True)"
   ]
  },
  {
   "cell_type": "code",
   "execution_count": 19,
   "metadata": {},
   "outputs": [
    {
     "data": {
      "text/html": [
       "<div>\n",
       "<style scoped>\n",
       "    .dataframe tbody tr th:only-of-type {\n",
       "        vertical-align: middle;\n",
       "    }\n",
       "\n",
       "    .dataframe tbody tr th {\n",
       "        vertical-align: top;\n",
       "    }\n",
       "\n",
       "    .dataframe thead th {\n",
       "        text-align: right;\n",
       "    }\n",
       "</style>\n",
       "<table border=\"1\" class=\"dataframe\">\n",
       "  <thead>\n",
       "    <tr style=\"text-align: right;\">\n",
       "      <th></th>\n",
       "      <th>CATEG_ID</th>\n",
       "      <th>STANDARD_QUESTION</th>\n",
       "    </tr>\n",
       "  </thead>\n",
       "  <tbody>\n",
       "    <tr>\n",
       "      <th>5281</th>\n",
       "      <td>促销</td>\n",
       "      <td>实名认证后但15块钱易券没看到</td>\n",
       "    </tr>\n",
       "    <tr>\n",
       "      <th>5272</th>\n",
       "      <td>促销</td>\n",
       "      <td>我昨天绑定了银行卡，可是没有15元无门槛优惠券呐</td>\n",
       "    </tr>\n",
       "  </tbody>\n",
       "</table>\n",
       "</div>"
      ],
      "text/plain": [
       "     CATEG_ID         STANDARD_QUESTION\n",
       "5281       促销           实名认证后但15块钱易券没看到\n",
       "5272       促销  我昨天绑定了银行卡，可是没有15元无门槛优惠券呐"
      ]
     },
     "execution_count": 19,
     "metadata": {},
     "output_type": "execute_result"
    }
   ],
   "source": [
    "#针对训练数据进行上采样\n",
    "#需要增加的数据类别包括：促销，保险，支付，转账，风险\n",
    "traind_cuxiao = traind.loc[traind.CATEG_ID =='促销',('CATEG_ID','STANDARD_QUESTION')]\n",
    "traind_cuxiao.head(2)\n",
    "#traind= traind.sample(20000,replace=True)"
   ]
  },
  {
   "cell_type": "code",
   "execution_count": 21,
   "metadata": {},
   "outputs": [
    {
     "data": {
      "text/plain": [
       "127"
      ]
     },
     "execution_count": 21,
     "metadata": {},
     "output_type": "execute_result"
    }
   ],
   "source": [
    "traind_cuxiao.iloc[:,0].size"
   ]
  },
  {
   "cell_type": "code",
   "execution_count": 30,
   "metadata": {},
   "outputs": [
    {
     "data": {
      "text/plain": [
       "2000"
      ]
     },
     "execution_count": 30,
     "metadata": {},
     "output_type": "execute_result"
    }
   ],
   "source": [
    "traind_cuxiao =traind_cuxiao.sample(2000,replace=True)\n",
    "traind_cuxiao.iloc[:,0].size"
   ]
  },
  {
   "cell_type": "code",
   "execution_count": 20,
   "metadata": {},
   "outputs": [
    {
     "data": {
      "text/html": [
       "<div>\n",
       "<style scoped>\n",
       "    .dataframe tbody tr th:only-of-type {\n",
       "        vertical-align: middle;\n",
       "    }\n",
       "\n",
       "    .dataframe tbody tr th {\n",
       "        vertical-align: top;\n",
       "    }\n",
       "\n",
       "    .dataframe thead th {\n",
       "        text-align: right;\n",
       "    }\n",
       "</style>\n",
       "<table border=\"1\" class=\"dataframe\">\n",
       "  <thead>\n",
       "    <tr style=\"text-align: right;\">\n",
       "      <th></th>\n",
       "      <th>CATEG_ID</th>\n",
       "      <th>STANDARD_QUESTION</th>\n",
       "    </tr>\n",
       "  </thead>\n",
       "  <tbody>\n",
       "    <tr>\n",
       "      <th>5850</th>\n",
       "      <td>保险</td>\n",
       "      <td>可以补买屏幕保险吗</td>\n",
       "    </tr>\n",
       "    <tr>\n",
       "      <th>5864</th>\n",
       "      <td>保险</td>\n",
       "      <td>有碎屏险吗</td>\n",
       "    </tr>\n",
       "  </tbody>\n",
       "</table>\n",
       "</div>"
      ],
      "text/plain": [
       "     CATEG_ID STANDARD_QUESTION\n",
       "5850       保险         可以补买屏幕保险吗\n",
       "5864       保险             有碎屏险吗"
      ]
     },
     "execution_count": 20,
     "metadata": {},
     "output_type": "execute_result"
    }
   ],
   "source": [
    "#针对训练数据进行上采样\n",
    "#需要增加的数据类别包括：促销，保险，支付，转账，风险\n",
    "traind_baoxian = traind.loc[traind.CATEG_ID =='保险',('CATEG_ID','STANDARD_QUESTION')]\n",
    "traind_baoxian.head(2)\n",
    "#traind= traind.sample(20000,replace=True)"
   ]
  },
  {
   "cell_type": "code",
   "execution_count": 22,
   "metadata": {},
   "outputs": [
    {
     "data": {
      "text/plain": [
       "70"
      ]
     },
     "execution_count": 22,
     "metadata": {},
     "output_type": "execute_result"
    }
   ],
   "source": [
    "traind_baoxian.iloc[:,0].size"
   ]
  },
  {
   "cell_type": "code",
   "execution_count": 31,
   "metadata": {},
   "outputs": [
    {
     "data": {
      "text/plain": [
       "700"
      ]
     },
     "execution_count": 31,
     "metadata": {},
     "output_type": "execute_result"
    }
   ],
   "source": [
    "traind_baoxian =traind_baoxian.sample(700,replace=True)\n",
    "traind_baoxian.iloc[:,0].size"
   ]
  },
  {
   "cell_type": "code",
   "execution_count": 23,
   "metadata": {},
   "outputs": [
    {
     "data": {
      "text/html": [
       "<div>\n",
       "<style scoped>\n",
       "    .dataframe tbody tr th:only-of-type {\n",
       "        vertical-align: middle;\n",
       "    }\n",
       "\n",
       "    .dataframe tbody tr th {\n",
       "        vertical-align: top;\n",
       "    }\n",
       "\n",
       "    .dataframe thead th {\n",
       "        text-align: right;\n",
       "    }\n",
       "</style>\n",
       "<table border=\"1\" class=\"dataframe\">\n",
       "  <thead>\n",
       "    <tr style=\"text-align: right;\">\n",
       "      <th></th>\n",
       "      <th>CATEG_ID</th>\n",
       "      <th>STANDARD_QUESTION</th>\n",
       "    </tr>\n",
       "  </thead>\n",
       "  <tbody>\n",
       "    <tr>\n",
       "      <th>3935</th>\n",
       "      <td>支付</td>\n",
       "      <td>话费支付成功为什么失败了</td>\n",
       "    </tr>\n",
       "    <tr>\n",
       "      <th>3927</th>\n",
       "      <td>支付</td>\n",
       "      <td>啥情况！3号给手机充值，一直未到帐</td>\n",
       "    </tr>\n",
       "  </tbody>\n",
       "</table>\n",
       "</div>"
      ],
      "text/plain": [
       "     CATEG_ID  STANDARD_QUESTION\n",
       "3935       支付       话费支付成功为什么失败了\n",
       "3927       支付  啥情况！3号给手机充值，一直未到帐"
      ]
     },
     "execution_count": 23,
     "metadata": {},
     "output_type": "execute_result"
    }
   ],
   "source": [
    "#针对训练数据进行上采样\n",
    "#需要增加的数据类别包括：促销，保险，支付，转账，风险\n",
    "traind_zhifu = traind.loc[traind.CATEG_ID =='支付',('CATEG_ID','STANDARD_QUESTION')]\n",
    "traind_zhifu.head(2)\n",
    "#traind= traind.sample(20000,replace=True)"
   ]
  },
  {
   "cell_type": "code",
   "execution_count": 24,
   "metadata": {},
   "outputs": [
    {
     "data": {
      "text/plain": [
       "80"
      ]
     },
     "execution_count": 24,
     "metadata": {},
     "output_type": "execute_result"
    }
   ],
   "source": [
    "traind_zhifu.iloc[:,0].size"
   ]
  },
  {
   "cell_type": "code",
   "execution_count": 32,
   "metadata": {},
   "outputs": [
    {
     "data": {
      "text/plain": [
       "800"
      ]
     },
     "execution_count": 32,
     "metadata": {},
     "output_type": "execute_result"
    }
   ],
   "source": [
    "traind_zhifu =traind_zhifu.sample(800,replace=True)\n",
    "traind_zhifu.iloc[:,0].size"
   ]
  },
  {
   "cell_type": "code",
   "execution_count": 25,
   "metadata": {},
   "outputs": [
    {
     "data": {
      "text/html": [
       "<div>\n",
       "<style scoped>\n",
       "    .dataframe tbody tr th:only-of-type {\n",
       "        vertical-align: middle;\n",
       "    }\n",
       "\n",
       "    .dataframe tbody tr th {\n",
       "        vertical-align: top;\n",
       "    }\n",
       "\n",
       "    .dataframe thead th {\n",
       "        text-align: right;\n",
       "    }\n",
       "</style>\n",
       "<table border=\"1\" class=\"dataframe\">\n",
       "  <thead>\n",
       "    <tr style=\"text-align: right;\">\n",
       "      <th></th>\n",
       "      <th>CATEG_ID</th>\n",
       "      <th>STANDARD_QUESTION</th>\n",
       "    </tr>\n",
       "  </thead>\n",
       "  <tbody>\n",
       "    <tr>\n",
       "      <th>4609</th>\n",
       "      <td>转账</td>\n",
       "      <td>定期转怎么添加任务</td>\n",
       "    </tr>\n",
       "    <tr>\n",
       "      <th>4629</th>\n",
       "      <td>转账</td>\n",
       "      <td>转账信息填错了能撤销吗</td>\n",
       "    </tr>\n",
       "  </tbody>\n",
       "</table>\n",
       "</div>"
      ],
      "text/plain": [
       "     CATEG_ID STANDARD_QUESTION\n",
       "4609       转账         定期转怎么添加任务\n",
       "4629       转账       转账信息填错了能撤销吗"
      ]
     },
     "execution_count": 25,
     "metadata": {},
     "output_type": "execute_result"
    }
   ],
   "source": [
    "#针对训练数据进行上采样\n",
    "#需要增加的数据类别包括：促销，保险，支付，转账，风险\n",
    "traind_zhuanzhang = traind.loc[traind.CATEG_ID =='转账',('CATEG_ID','STANDARD_QUESTION')]\n",
    "traind_zhuanzhang.head(2)\n",
    "#traind= traind.sample(20000,replace=True)"
   ]
  },
  {
   "cell_type": "code",
   "execution_count": 26,
   "metadata": {},
   "outputs": [
    {
     "data": {
      "text/plain": [
       "67"
      ]
     },
     "execution_count": 26,
     "metadata": {},
     "output_type": "execute_result"
    }
   ],
   "source": [
    "traind_zhuanzhang.iloc[:,0].size"
   ]
  },
  {
   "cell_type": "code",
   "execution_count": 33,
   "metadata": {},
   "outputs": [
    {
     "data": {
      "text/plain": [
       "670"
      ]
     },
     "execution_count": 33,
     "metadata": {},
     "output_type": "execute_result"
    }
   ],
   "source": [
    "traind_zhuanzhang =traind_zhuanzhang.sample(670,replace=True)\n",
    "traind_zhuanzhang.iloc[:,0].size"
   ]
  },
  {
   "cell_type": "code",
   "execution_count": 27,
   "metadata": {},
   "outputs": [
    {
     "data": {
      "text/html": [
       "<div>\n",
       "<style scoped>\n",
       "    .dataframe tbody tr th:only-of-type {\n",
       "        vertical-align: middle;\n",
       "    }\n",
       "\n",
       "    .dataframe tbody tr th {\n",
       "        vertical-align: top;\n",
       "    }\n",
       "\n",
       "    .dataframe thead th {\n",
       "        text-align: right;\n",
       "    }\n",
       "</style>\n",
       "<table border=\"1\" class=\"dataframe\">\n",
       "  <thead>\n",
       "    <tr style=\"text-align: right;\">\n",
       "      <th></th>\n",
       "      <th>CATEG_ID</th>\n",
       "      <th>STANDARD_QUESTION</th>\n",
       "    </tr>\n",
       "  </thead>\n",
       "  <tbody>\n",
       "    <tr>\n",
       "      <th>4982</th>\n",
       "      <td>风险</td>\n",
       "      <td>你好，是别人刷了我的钱怎么办</td>\n",
       "    </tr>\n",
       "    <tr>\n",
       "      <th>4968</th>\n",
       "      <td>风险</td>\n",
       "      <td>礼品卡没消费就没有了</td>\n",
       "    </tr>\n",
       "  </tbody>\n",
       "</table>\n",
       "</div>"
      ],
      "text/plain": [
       "     CATEG_ID STANDARD_QUESTION\n",
       "4982       风险    你好，是别人刷了我的钱怎么办\n",
       "4968       风险        礼品卡没消费就没有了"
      ]
     },
     "execution_count": 27,
     "metadata": {},
     "output_type": "execute_result"
    }
   ],
   "source": [
    "#针对训练数据进行上采样\n",
    "#需要增加的数据类别包括：促销，保险，支付，转账，风险\n",
    "traind_fengxian = traind.loc[traind.CATEG_ID =='风险',('CATEG_ID','STANDARD_QUESTION')]\n",
    "traind_fengxian.head(2)\n",
    "#traind= traind.sample(20000,replace=True)"
   ]
  },
  {
   "cell_type": "code",
   "execution_count": 34,
   "metadata": {},
   "outputs": [
    {
     "data": {
      "text/plain": [
       "22"
      ]
     },
     "execution_count": 34,
     "metadata": {},
     "output_type": "execute_result"
    }
   ],
   "source": [
    "traind_fengxian.iloc[:,0].size"
   ]
  },
  {
   "cell_type": "code",
   "execution_count": 36,
   "metadata": {},
   "outputs": [
    {
     "data": {
      "text/plain": [
       "220"
      ]
     },
     "execution_count": 36,
     "metadata": {},
     "output_type": "execute_result"
    }
   ],
   "source": [
    "traind_fengxian =traind_fengxian.sample(220,replace=True)\n",
    "traind_fengxian.iloc[:,0].size"
   ]
  },
  {
   "cell_type": "code",
   "execution_count": 39,
   "metadata": {},
   "outputs": [],
   "source": [
    "traind = traind.append(traind_cuxiao).append(traind_baoxian).append(traind_zhifu).append(traind_zhuanzhang).append(traind_fengxian)"
   ]
  },
  {
   "cell_type": "code",
   "execution_count": 40,
   "metadata": {},
   "outputs": [
    {
     "data": {
      "text/plain": [
       "8615"
      ]
     },
     "execution_count": 40,
     "metadata": {},
     "output_type": "execute_result"
    }
   ],
   "source": [
    "traind.iloc[:,0].size"
   ]
  },
  {
   "cell_type": "code",
   "execution_count": 42,
   "metadata": {},
   "outputs": [],
   "source": [
    "traind= traind.sample(20000,replace=True)"
   ]
  },
  {
   "cell_type": "code",
   "execution_count": 43,
   "metadata": {},
   "outputs": [
    {
     "data": {
      "text/html": [
       "<div>\n",
       "<style scoped>\n",
       "    .dataframe tbody tr th:only-of-type {\n",
       "        vertical-align: middle;\n",
       "    }\n",
       "\n",
       "    .dataframe tbody tr th {\n",
       "        vertical-align: top;\n",
       "    }\n",
       "\n",
       "    .dataframe thead th {\n",
       "        text-align: right;\n",
       "    }\n",
       "</style>\n",
       "<table border=\"1\" class=\"dataframe\">\n",
       "  <thead>\n",
       "    <tr style=\"text-align: right;\">\n",
       "      <th></th>\n",
       "      <th>num</th>\n",
       "    </tr>\n",
       "    <tr>\n",
       "      <th>CATEG_ID</th>\n",
       "      <th></th>\n",
       "    </tr>\n",
       "  </thead>\n",
       "  <tbody>\n",
       "    <tr>\n",
       "      <th>任性付</th>\n",
       "      <td>2896</td>\n",
       "    </tr>\n",
       "    <tr>\n",
       "      <th>任性贷</th>\n",
       "      <td>2033</td>\n",
       "    </tr>\n",
       "    <tr>\n",
       "      <th>促销</th>\n",
       "      <td>4864</td>\n",
       "    </tr>\n",
       "    <tr>\n",
       "      <th>保险</th>\n",
       "      <td>1852</td>\n",
       "    </tr>\n",
       "    <tr>\n",
       "      <th>信用卡</th>\n",
       "      <td>730</td>\n",
       "    </tr>\n",
       "    <tr>\n",
       "      <th>支付</th>\n",
       "      <td>2023</td>\n",
       "    </tr>\n",
       "    <tr>\n",
       "      <th>易付宝账户</th>\n",
       "      <td>1396</td>\n",
       "    </tr>\n",
       "    <tr>\n",
       "      <th>理财</th>\n",
       "      <td>1012</td>\n",
       "    </tr>\n",
       "    <tr>\n",
       "      <th>苏宁卡</th>\n",
       "      <td>494</td>\n",
       "    </tr>\n",
       "    <tr>\n",
       "      <th>转账</th>\n",
       "      <td>1700</td>\n",
       "    </tr>\n",
       "    <tr>\n",
       "      <th>零钱宝</th>\n",
       "      <td>456</td>\n",
       "    </tr>\n",
       "    <tr>\n",
       "      <th>风险</th>\n",
       "      <td>544</td>\n",
       "    </tr>\n",
       "  </tbody>\n",
       "</table>\n",
       "</div>"
      ],
      "text/plain": [
       "           num\n",
       "CATEG_ID      \n",
       "任性付       2896\n",
       "任性贷       2033\n",
       "促销        4864\n",
       "保险        1852\n",
       "信用卡        730\n",
       "支付        2023\n",
       "易付宝账户     1396\n",
       "理财        1012\n",
       "苏宁卡        494\n",
       "转账        1700\n",
       "零钱宝        456\n",
       "风险         544"
      ]
     },
     "execution_count": 43,
     "metadata": {},
     "output_type": "execute_result"
    }
   ],
   "source": [
    "traind_fenlei = traind[['CATEG_ID']]\n",
    "traind_fenlei['num']= 1\n",
    "traind_fenlei.groupby('CATEG_ID').sum()"
   ]
  },
  {
   "cell_type": "code",
   "execution_count": 44,
   "metadata": {},
   "outputs": [
    {
     "data": {
      "text/plain": [
       "{'任性付',\n",
       " '任性贷',\n",
       " '促销',\n",
       " '保险',\n",
       " '信用卡',\n",
       " '支付',\n",
       " '易付宝账户',\n",
       " '理财',\n",
       " '苏宁卡',\n",
       " '转账',\n",
       " '零钱宝',\n",
       " '风险'}"
      ]
     },
     "execution_count": 44,
     "metadata": {},
     "output_type": "execute_result"
    }
   ],
   "source": [
    "set(traind['CATEG_ID'])"
   ]
  },
  {
   "cell_type": "code",
   "execution_count": 45,
   "metadata": {},
   "outputs": [
    {
     "data": {
      "text/html": [
       "<div>\n",
       "<style scoped>\n",
       "    .dataframe tbody tr th:only-of-type {\n",
       "        vertical-align: middle;\n",
       "    }\n",
       "\n",
       "    .dataframe tbody tr th {\n",
       "        vertical-align: top;\n",
       "    }\n",
       "\n",
       "    .dataframe thead th {\n",
       "        text-align: right;\n",
       "    }\n",
       "</style>\n",
       "<table border=\"1\" class=\"dataframe\">\n",
       "  <thead>\n",
       "    <tr style=\"text-align: right;\">\n",
       "      <th></th>\n",
       "      <th>CATEG_ID</th>\n",
       "      <th>STANDARD_QUESTION</th>\n",
       "    </tr>\n",
       "  </thead>\n",
       "  <tbody>\n",
       "    <tr>\n",
       "      <th>11</th>\n",
       "      <td>任性付</td>\n",
       "      <td>12期分期减400是怎么用的</td>\n",
       "    </tr>\n",
       "    <tr>\n",
       "      <th>5284</th>\n",
       "      <td>促销</td>\n",
       "      <td>我实名没有15元无门槛优惠券</td>\n",
       "    </tr>\n",
       "    <tr>\n",
       "      <th>5270</th>\n",
       "      <td>促销</td>\n",
       "      <td>我实名认证了，15元的无门槛劵怎么没有呢</td>\n",
       "    </tr>\n",
       "    <tr>\n",
       "      <th>572</th>\n",
       "      <td>任性付</td>\n",
       "      <td>任性付为什么不让我激活</td>\n",
       "    </tr>\n",
       "    <tr>\n",
       "      <th>2896</th>\n",
       "      <td>任性贷</td>\n",
       "      <td>任性贷如何自动代扣</td>\n",
       "    </tr>\n",
       "  </tbody>\n",
       "</table>\n",
       "</div>"
      ],
      "text/plain": [
       "     CATEG_ID     STANDARD_QUESTION\n",
       "11        任性付        12期分期减400是怎么用的\n",
       "5284       促销        我实名没有15元无门槛优惠券\n",
       "5270       促销  我实名认证了，15元的无门槛劵怎么没有呢\n",
       "572       任性付           任性付为什么不让我激活\n",
       "2896      任性贷             任性贷如何自动代扣"
      ]
     },
     "execution_count": 45,
     "metadata": {},
     "output_type": "execute_result"
    }
   ],
   "source": [
    "traind.head(5)"
   ]
  },
  {
   "cell_type": "code",
   "execution_count": 127,
   "metadata": {},
   "outputs": [],
   "source": [
    "#df1['STANDARD_QUESTION']"
   ]
  },
  {
   "cell_type": "code",
   "execution_count": 46,
   "metadata": {
    "scrolled": true
   },
   "outputs": [],
   "source": [
    "#df1['segment']= seg_sentence(df1['STANDARD_QUESTION'])\n",
    "traind['segment'] = traind['STANDARD_QUESTION'].astype(str).apply(lambda x: makesentence(x))\n",
    "#traind['segment'] = traind['new_ques'].astype(str).apply(lambda x: makesentence(x))\n",
    "#df1['segment'] = df1['STANDARD_QUESTION'].astype(str).apply(lambda x: list(jieba.cut(x)))"
   ]
  },
  {
   "cell_type": "code",
   "execution_count": 47,
   "metadata": {},
   "outputs": [
    {
     "data": {
      "text/html": [
       "<div>\n",
       "<style scoped>\n",
       "    .dataframe tbody tr th:only-of-type {\n",
       "        vertical-align: middle;\n",
       "    }\n",
       "\n",
       "    .dataframe tbody tr th {\n",
       "        vertical-align: top;\n",
       "    }\n",
       "\n",
       "    .dataframe thead th {\n",
       "        text-align: right;\n",
       "    }\n",
       "</style>\n",
       "<table border=\"1\" class=\"dataframe\">\n",
       "  <thead>\n",
       "    <tr style=\"text-align: right;\">\n",
       "      <th></th>\n",
       "      <th>CATEG_ID</th>\n",
       "      <th>STANDARD_QUESTION</th>\n",
       "      <th>segment</th>\n",
       "    </tr>\n",
       "  </thead>\n",
       "  <tbody>\n",
       "    <tr>\n",
       "      <th>11</th>\n",
       "      <td>任性付</td>\n",
       "      <td>12期分期减400是怎么用的</td>\n",
       "      <td>12 期 分期 减 400 是 怎么 用的</td>\n",
       "    </tr>\n",
       "    <tr>\n",
       "      <th>5284</th>\n",
       "      <td>促销</td>\n",
       "      <td>我实名没有15元无门槛优惠券</td>\n",
       "      <td>我 实名 没有 15 元 无 门槛 优惠券</td>\n",
       "    </tr>\n",
       "    <tr>\n",
       "      <th>5270</th>\n",
       "      <td>促销</td>\n",
       "      <td>我实名认证了，15元的无门槛劵怎么没有呢</td>\n",
       "      <td>我 实名认证 15 元 无 门槛 劵 怎么 没有</td>\n",
       "    </tr>\n",
       "    <tr>\n",
       "      <th>572</th>\n",
       "      <td>任性付</td>\n",
       "      <td>任性付为什么不让我激活</td>\n",
       "      <td>任性付 为什么 不让 我 激活</td>\n",
       "    </tr>\n",
       "    <tr>\n",
       "      <th>2896</th>\n",
       "      <td>任性贷</td>\n",
       "      <td>任性贷如何自动代扣</td>\n",
       "      <td>任性贷 如何 自动代扣</td>\n",
       "    </tr>\n",
       "  </tbody>\n",
       "</table>\n",
       "</div>"
      ],
      "text/plain": [
       "     CATEG_ID     STANDARD_QUESTION                    segment\n",
       "11        任性付        12期分期减400是怎么用的     12 期 分期 减 400 是 怎么 用的 \n",
       "5284       促销        我实名没有15元无门槛优惠券     我 实名 没有 15 元 无 门槛 优惠券 \n",
       "5270       促销  我实名认证了，15元的无门槛劵怎么没有呢  我 实名认证 15 元 无 门槛 劵 怎么 没有 \n",
       "572       任性付           任性付为什么不让我激活           任性付 为什么 不让 我 激活 \n",
       "2896      任性贷             任性贷如何自动代扣               任性贷 如何 自动代扣 "
      ]
     },
     "execution_count": 47,
     "metadata": {},
     "output_type": "execute_result"
    }
   ],
   "source": [
    "traind[0:5]"
   ]
  },
  {
   "cell_type": "code",
   "execution_count": 48,
   "metadata": {},
   "outputs": [],
   "source": [
    "traind['big_label'] = '__label__'+traind['CATEG_ID']"
   ]
  },
  {
   "cell_type": "code",
   "execution_count": 49,
   "metadata": {},
   "outputs": [
    {
     "data": {
      "text/html": [
       "<div>\n",
       "<style scoped>\n",
       "    .dataframe tbody tr th:only-of-type {\n",
       "        vertical-align: middle;\n",
       "    }\n",
       "\n",
       "    .dataframe tbody tr th {\n",
       "        vertical-align: top;\n",
       "    }\n",
       "\n",
       "    .dataframe thead th {\n",
       "        text-align: right;\n",
       "    }\n",
       "</style>\n",
       "<table border=\"1\" class=\"dataframe\">\n",
       "  <thead>\n",
       "    <tr style=\"text-align: right;\">\n",
       "      <th></th>\n",
       "      <th>CATEG_ID</th>\n",
       "      <th>STANDARD_QUESTION</th>\n",
       "      <th>segment</th>\n",
       "      <th>big_label</th>\n",
       "    </tr>\n",
       "  </thead>\n",
       "  <tbody>\n",
       "    <tr>\n",
       "      <th>11</th>\n",
       "      <td>任性付</td>\n",
       "      <td>12期分期减400是怎么用的</td>\n",
       "      <td>12 期 分期 减 400 是 怎么 用的</td>\n",
       "      <td>__label__任性付</td>\n",
       "    </tr>\n",
       "  </tbody>\n",
       "</table>\n",
       "</div>"
      ],
      "text/plain": [
       "   CATEG_ID STANDARD_QUESTION                 segment     big_label\n",
       "11      任性付    12期分期减400是怎么用的  12 期 分期 减 400 是 怎么 用的   __label__任性付"
      ]
     },
     "execution_count": 49,
     "metadata": {},
     "output_type": "execute_result"
    }
   ],
   "source": [
    "traind.head(1)"
   ]
  },
  {
   "cell_type": "code",
   "execution_count": 50,
   "metadata": {},
   "outputs": [],
   "source": [
    "traind[['segment', 'big_label']].to_csv('./train_knowledge_fast.txt',sep='\\t',index=False)\n",
    "#traind[['segment', 'big_label']].to_csv('./new_ques_train_knowledge_fast.txt',sep='\\t',index=False)"
   ]
  },
  {
   "cell_type": "code",
   "execution_count": 51,
   "metadata": {},
   "outputs": [],
   "source": [
    "import fastText as fasttext\n",
    "def build_classification(Inputdata_Path):\n",
    "    print(\"开始训练模型：....\")\n",
    "    # wordvec=fasttext.skipgram(Inputdata_Path,'./model_skipgram/model',lr=0.01,dim=200,ws=5,epoch=10,min_count=1,neg=5,word_ngrams=5)\n",
    "    # print(wordvec.words)          #获取词汇表\n",
    "    # print(wordvec['任性贷'])   #获取词向量\n",
    "    # print(wordvec.cosine_similarity('任性付','任性贷'))  #相似性\n",
    "    classifier = fasttext.train_supervised(Inputdata_Path,lr=0.1,bucket=500000,label='__label__')\n",
    "    print(\"训练完成。\")\n",
    "    return classifier"
   ]
  },
  {
   "cell_type": "code",
   "execution_count": 63,
   "metadata": {},
   "outputs": [
    {
     "name": "stdout",
     "output_type": "stream",
     "text": [
      "开始训练模型：....\n",
      "训练完成。\n"
     ]
    }
   ],
   "source": [
    "Inputdata_Path_Big = './train_knowledge_fast.txt'\n",
    "classf_big=build_classification(Inputdata_Path_Big)\n",
    "#保存模型\n",
    "#classf_big.save_model('classf_big.model')\n",
    "classf_big.save_model('classf_knowledge.model')"
   ]
  },
  {
   "cell_type": "code",
   "execution_count": 53,
   "metadata": {},
   "outputs": [
    {
     "data": {
      "text/html": [
       "<div>\n",
       "<style scoped>\n",
       "    .dataframe tbody tr th:only-of-type {\n",
       "        vertical-align: middle;\n",
       "    }\n",
       "\n",
       "    .dataframe tbody tr th {\n",
       "        vertical-align: top;\n",
       "    }\n",
       "\n",
       "    .dataframe thead th {\n",
       "        text-align: right;\n",
       "    }\n",
       "</style>\n",
       "<table border=\"1\" class=\"dataframe\">\n",
       "  <thead>\n",
       "    <tr style=\"text-align: right;\">\n",
       "      <th></th>\n",
       "      <th>CATEG_ID</th>\n",
       "      <th>STANDARD_QUESTION</th>\n",
       "    </tr>\n",
       "  </thead>\n",
       "  <tbody>\n",
       "    <tr>\n",
       "      <th>2779</th>\n",
       "      <td>任性贷</td>\n",
       "      <td>为什么任性贷申请提现总是申请失败呢</td>\n",
       "    </tr>\n",
       "  </tbody>\n",
       "</table>\n",
       "</div>"
      ],
      "text/plain": [
       "     CATEG_ID  STANDARD_QUESTION\n",
       "2779      任性贷  为什么任性贷申请提现总是申请失败呢"
      ]
     },
     "execution_count": 53,
     "metadata": {},
     "output_type": "execute_result"
    }
   ],
   "source": [
    "#test=pd.read_csv(\"./finance_knowledge.csv\")\n",
    "testd.head(1)"
   ]
  },
  {
   "cell_type": "code",
   "execution_count": 64,
   "metadata": {},
   "outputs": [
    {
     "name": "stderr",
     "output_type": "stream",
     "text": [
      "/opt/typ/anaconda3/lib/python3.6/site-packages/ipykernel_launcher.py:2: SettingWithCopyWarning: \n",
      "A value is trying to be set on a copy of a slice from a DataFrame.\n",
      "Try using .loc[row_indexer,col_indexer] = value instead\n",
      "\n",
      "See the caveats in the documentation: http://pandas.pydata.org/pandas-docs/stable/indexing.html#indexing-view-versus-copy\n",
      "  \n"
     ]
    }
   ],
   "source": [
    "#classf_big = fasttext.load_model('classf_knowledge.model')\n",
    "testd['分类预测']=testd[\"STANDARD_QUESTION\"].astype(str).apply(lambda x:classf_big.predict(makesentence(x))[0][0])"
   ]
  },
  {
   "cell_type": "code",
   "execution_count": 55,
   "metadata": {},
   "outputs": [
    {
     "name": "stderr",
     "output_type": "stream",
     "text": [
      "/opt/typ/anaconda3/lib/python3.6/site-packages/ipykernel_launcher.py:1: SettingWithCopyWarning: \n",
      "A value is trying to be set on a copy of a slice from a DataFrame.\n",
      "Try using .loc[row_indexer,col_indexer] = value instead\n",
      "\n",
      "See the caveats in the documentation: http://pandas.pydata.org/pandas-docs/stable/indexing.html#indexing-view-versus-copy\n",
      "  \"\"\"Entry point for launching an IPython kernel.\n"
     ]
    }
   ],
   "source": [
    "testd['big_label'] = '__label__'+testd['CATEG_ID']"
   ]
  },
  {
   "cell_type": "code",
   "execution_count": 56,
   "metadata": {},
   "outputs": [
    {
     "data": {
      "text/html": [
       "<div>\n",
       "<style scoped>\n",
       "    .dataframe tbody tr th:only-of-type {\n",
       "        vertical-align: middle;\n",
       "    }\n",
       "\n",
       "    .dataframe tbody tr th {\n",
       "        vertical-align: top;\n",
       "    }\n",
       "\n",
       "    .dataframe thead th {\n",
       "        text-align: right;\n",
       "    }\n",
       "</style>\n",
       "<table border=\"1\" class=\"dataframe\">\n",
       "  <thead>\n",
       "    <tr style=\"text-align: right;\">\n",
       "      <th></th>\n",
       "      <th>big_label</th>\n",
       "      <th>STANDARD_QUESTION</th>\n",
       "      <th>分类预测</th>\n",
       "    </tr>\n",
       "  </thead>\n",
       "  <tbody>\n",
       "    <tr>\n",
       "      <th>2779</th>\n",
       "      <td>__label__任性贷</td>\n",
       "      <td>为什么任性贷申请提现总是申请失败呢</td>\n",
       "      <td>__label__任性贷</td>\n",
       "    </tr>\n",
       "    <tr>\n",
       "      <th>1131</th>\n",
       "      <td>__label__任性付</td>\n",
       "      <td>你好，为什么我的任性付没法支付</td>\n",
       "      <td>__label__任性付</td>\n",
       "    </tr>\n",
       "    <tr>\n",
       "      <th>1511</th>\n",
       "      <td>__label__任性付</td>\n",
       "      <td>任性付绑定的卡可以换吗</td>\n",
       "      <td>__label__任性付</td>\n",
       "    </tr>\n",
       "    <tr>\n",
       "      <th>2886</th>\n",
       "      <td>__label__任性贷</td>\n",
       "      <td>任性贷一次最多能借多少</td>\n",
       "      <td>__label__任性贷</td>\n",
       "    </tr>\n",
       "    <tr>\n",
       "      <th>5534</th>\n",
       "      <td>__label__理财</td>\n",
       "      <td>怎么不显示变现贷</td>\n",
       "      <td>__label__理财</td>\n",
       "    </tr>\n",
       "    <tr>\n",
       "      <th>5402</th>\n",
       "      <td>__label__理财</td>\n",
       "      <td>请问，变现通现在还有吗</td>\n",
       "      <td>__label__理财</td>\n",
       "    </tr>\n",
       "    <tr>\n",
       "      <th>4912</th>\n",
       "      <td>__label__零钱宝</td>\n",
       "      <td>零钱宝转出需不需要手续费</td>\n",
       "      <td>__label__零钱宝</td>\n",
       "    </tr>\n",
       "    <tr>\n",
       "      <th>4502</th>\n",
       "      <td>__label__苏宁卡</td>\n",
       "      <td>电子卡，可以开具食品的发票么</td>\n",
       "      <td>__label__苏宁卡</td>\n",
       "    </tr>\n",
       "    <tr>\n",
       "      <th>3740</th>\n",
       "      <td>__label__易付宝账户</td>\n",
       "      <td>怎样解绑易购</td>\n",
       "      <td>__label__易付宝账户</td>\n",
       "    </tr>\n",
       "    <tr>\n",
       "      <th>1676</th>\n",
       "      <td>__label__任性付</td>\n",
       "      <td>任性贷人脸识别失败怎么办</td>\n",
       "      <td>__label__任性付</td>\n",
       "    </tr>\n",
       "    <tr>\n",
       "      <th>3494</th>\n",
       "      <td>__label__易付宝账户</td>\n",
       "      <td>易付宝账户能注销吗</td>\n",
       "      <td>__label__易付宝账户</td>\n",
       "    </tr>\n",
       "    <tr>\n",
       "      <th>4383</th>\n",
       "      <td>__label__苏宁卡</td>\n",
       "      <td>预定款的机器支付尾款时可以使用苏宁礼品券支付吗</td>\n",
       "      <td>__label__支付</td>\n",
       "    </tr>\n",
       "    <tr>\n",
       "      <th>5827</th>\n",
       "      <td>__label__支付</td>\n",
       "      <td>这个订单付款了怎么还显示待支付</td>\n",
       "      <td>__label__支付</td>\n",
       "    </tr>\n",
       "    <tr>\n",
       "      <th>1263</th>\n",
       "      <td>__label__任性付</td>\n",
       "      <td>任性付还款时间是</td>\n",
       "      <td>__label__任性付</td>\n",
       "    </tr>\n",
       "    <tr>\n",
       "      <th>2376</th>\n",
       "      <td>__label__任性贷</td>\n",
       "      <td>为什么我任性贷突然没有额度了，我从来没有逾期过</td>\n",
       "      <td>__label__任性贷</td>\n",
       "    </tr>\n",
       "    <tr>\n",
       "      <th>5900</th>\n",
       "      <td>__label__易付宝账户</td>\n",
       "      <td>高级实名认证还没结束</td>\n",
       "      <td>__label__易付宝账户</td>\n",
       "    </tr>\n",
       "    <tr>\n",
       "      <th>286</th>\n",
       "      <td>__label__信用卡</td>\n",
       "      <td>选择的是信用卡付款，应该是信用卡分期</td>\n",
       "      <td>__label__信用卡</td>\n",
       "    </tr>\n",
       "    <tr>\n",
       "      <th>2024</th>\n",
       "      <td>__label__任性贷</td>\n",
       "      <td>有什么贷款的产品么</td>\n",
       "      <td>__label__理财</td>\n",
       "    </tr>\n",
       "    <tr>\n",
       "      <th>4361</th>\n",
       "      <td>__label__苏宁卡</td>\n",
       "      <td>每笔订单可以使用多少礼品卡</td>\n",
       "      <td>__label__苏宁卡</td>\n",
       "    </tr>\n",
       "    <tr>\n",
       "      <th>3141</th>\n",
       "      <td>__label__易付宝账户</td>\n",
       "      <td>易付宝如何初级认证</td>\n",
       "      <td>__label__易付宝账户</td>\n",
       "    </tr>\n",
       "    <tr>\n",
       "      <th>1118</th>\n",
       "      <td>__label__任性付</td>\n",
       "      <td>我为什么用不了任性付</td>\n",
       "      <td>__label__任性付</td>\n",
       "    </tr>\n",
       "    <tr>\n",
       "      <th>5345</th>\n",
       "      <td>__label__理财</td>\n",
       "      <td>苏宁理财，定期理财固收和票据没有可以买的了</td>\n",
       "      <td>__label__理财</td>\n",
       "    </tr>\n",
       "    <tr>\n",
       "      <th>321</th>\n",
       "      <td>__label__信用卡</td>\n",
       "      <td>怎么分期付款呢</td>\n",
       "      <td>__label__信用卡</td>\n",
       "    </tr>\n",
       "    <tr>\n",
       "      <th>2090</th>\n",
       "      <td>__label__任性贷</td>\n",
       "      <td>怎么申请的任性贷还在授信中</td>\n",
       "      <td>__label__任性贷</td>\n",
       "    </tr>\n",
       "    <tr>\n",
       "      <th>4076</th>\n",
       "      <td>__label__理财</td>\n",
       "      <td>理财怎么购买</td>\n",
       "      <td>__label__理财</td>\n",
       "    </tr>\n",
       "    <tr>\n",
       "      <th>29</th>\n",
       "      <td>__label__信用卡</td>\n",
       "      <td>分期分6期多少</td>\n",
       "      <td>__label__信用卡</td>\n",
       "    </tr>\n",
       "    <tr>\n",
       "      <th>553</th>\n",
       "      <td>__label__任性付</td>\n",
       "      <td>申请任性付需要哪些材料</td>\n",
       "      <td>__label__任性付</td>\n",
       "    </tr>\n",
       "    <tr>\n",
       "      <th>6017</th>\n",
       "      <td>__label__任性贷</td>\n",
       "      <td>苏宁租机的还款方式有哪些</td>\n",
       "      <td>__label__任性贷</td>\n",
       "    </tr>\n",
       "    <tr>\n",
       "      <th>5581</th>\n",
       "      <td>__label__理财</td>\n",
       "      <td>我的变现通，固守，安心盈等都显示无产品</td>\n",
       "      <td>__label__理财</td>\n",
       "    </tr>\n",
       "    <tr>\n",
       "      <th>5767</th>\n",
       "      <td>__label__任性付</td>\n",
       "      <td>开通任性付的时候～跟我说姓名和电话号码不符</td>\n",
       "      <td>__label__任性付</td>\n",
       "    </tr>\n",
       "    <tr>\n",
       "      <th>...</th>\n",
       "      <td>...</td>\n",
       "      <td>...</td>\n",
       "      <td>...</td>\n",
       "    </tr>\n",
       "    <tr>\n",
       "      <th>670</th>\n",
       "      <td>__label__任性付</td>\n",
       "      <td>任性付不支持买哪些商品</td>\n",
       "      <td>__label__任性付</td>\n",
       "    </tr>\n",
       "    <tr>\n",
       "      <th>4316</th>\n",
       "      <td>__label__苏宁卡</td>\n",
       "      <td>苏宁卡可以转让吗</td>\n",
       "      <td>__label__苏宁卡</td>\n",
       "    </tr>\n",
       "    <tr>\n",
       "      <th>5496</th>\n",
       "      <td>__label__理财</td>\n",
       "      <td>苏宁理财票据固收怎么没有</td>\n",
       "      <td>__label__理财</td>\n",
       "    </tr>\n",
       "    <tr>\n",
       "      <th>2228</th>\n",
       "      <td>__label__任性贷</td>\n",
       "      <td>为啥给我关了任性贷</td>\n",
       "      <td>__label__任性贷</td>\n",
       "    </tr>\n",
       "    <tr>\n",
       "      <th>1107</th>\n",
       "      <td>__label__任性付</td>\n",
       "      <td>没有任性付的选择</td>\n",
       "      <td>__label__任性付</td>\n",
       "    </tr>\n",
       "    <tr>\n",
       "      <th>3928</th>\n",
       "      <td>__label__支付</td>\n",
       "      <td>手机充值后如何获取发票</td>\n",
       "      <td>__label__苏宁卡</td>\n",
       "    </tr>\n",
       "    <tr>\n",
       "      <th>4312</th>\n",
       "      <td>__label__苏宁卡</td>\n",
       "      <td>礼品卡在哪里激活</td>\n",
       "      <td>__label__苏宁卡</td>\n",
       "    </tr>\n",
       "    <tr>\n",
       "      <th>971</th>\n",
       "      <td>__label__任性付</td>\n",
       "      <td>任性付现在不可以借了吗</td>\n",
       "      <td>__label__任性付</td>\n",
       "    </tr>\n",
       "    <tr>\n",
       "      <th>437</th>\n",
       "      <td>__label__任性付</td>\n",
       "      <td>任性付如何进行实名认证</td>\n",
       "      <td>__label__任性付</td>\n",
       "    </tr>\n",
       "    <tr>\n",
       "      <th>1871</th>\n",
       "      <td>__label__任性付</td>\n",
       "      <td>任性付能不能升额度呢</td>\n",
       "      <td>__label__任性付</td>\n",
       "    </tr>\n",
       "    <tr>\n",
       "      <th>371</th>\n",
       "      <td>__label__信用卡</td>\n",
       "      <td>这个可以信用卡分期吗</td>\n",
       "      <td>__label__信用卡</td>\n",
       "    </tr>\n",
       "    <tr>\n",
       "      <th>4923</th>\n",
       "      <td>__label__零钱宝</td>\n",
       "      <td>零钱宝赎回一天了都没有到银行账户，请帮忙查一下</td>\n",
       "      <td>__label__零钱宝</td>\n",
       "    </tr>\n",
       "    <tr>\n",
       "      <th>861</th>\n",
       "      <td>__label__任性付</td>\n",
       "      <td>任性付系统升级多久</td>\n",
       "      <td>__label__任性付</td>\n",
       "    </tr>\n",
       "    <tr>\n",
       "      <th>3763</th>\n",
       "      <td>__label__易付宝账户</td>\n",
       "      <td>易付宝是需要先从自己银行卡转账出来对吗</td>\n",
       "      <td>__label__易付宝账户</td>\n",
       "    </tr>\n",
       "    <tr>\n",
       "      <th>1106</th>\n",
       "      <td>__label__任性付</td>\n",
       "      <td>支付的时候选择不了任性付</td>\n",
       "      <td>__label__任性付</td>\n",
       "    </tr>\n",
       "    <tr>\n",
       "      <th>2291</th>\n",
       "      <td>__label__任性贷</td>\n",
       "      <td>我的任性贷额度怎么没有了</td>\n",
       "      <td>__label__任性贷</td>\n",
       "    </tr>\n",
       "    <tr>\n",
       "      <th>1985</th>\n",
       "      <td>__label__任性付</td>\n",
       "      <td>任性付欠款还清可以出示证明吗</td>\n",
       "      <td>__label__任性付</td>\n",
       "    </tr>\n",
       "    <tr>\n",
       "      <th>245</th>\n",
       "      <td>__label__信用卡</td>\n",
       "      <td>我选6期的话就是6分期个月吗</td>\n",
       "      <td>__label__信用卡</td>\n",
       "    </tr>\n",
       "    <tr>\n",
       "      <th>4125</th>\n",
       "      <td>__label__理财</td>\n",
       "      <td>兑换的理财券在哪查</td>\n",
       "      <td>__label__理财</td>\n",
       "    </tr>\n",
       "    <tr>\n",
       "      <th>5301</th>\n",
       "      <td>__label__促销</td>\n",
       "      <td>实名绑定为什么没收到优惠卷</td>\n",
       "      <td>__label__促销</td>\n",
       "    </tr>\n",
       "    <tr>\n",
       "      <th>2611</th>\n",
       "      <td>__label__任性贷</td>\n",
       "      <td>你好，我的任性贷能解冻吗</td>\n",
       "      <td>__label__任性贷</td>\n",
       "    </tr>\n",
       "    <tr>\n",
       "      <th>4578</th>\n",
       "      <td>__label__保险</td>\n",
       "      <td>账户安全险能保障我哪些资金</td>\n",
       "      <td>__label__保险</td>\n",
       "    </tr>\n",
       "    <tr>\n",
       "      <th>2105</th>\n",
       "      <td>__label__任性贷</td>\n",
       "      <td>你好，开通任性贷需要审核多久啊</td>\n",
       "      <td>__label__任性贷</td>\n",
       "    </tr>\n",
       "    <tr>\n",
       "      <th>512</th>\n",
       "      <td>__label__任性付</td>\n",
       "      <td>申请任性付开通，大概多久会通过</td>\n",
       "      <td>__label__任性付</td>\n",
       "    </tr>\n",
       "    <tr>\n",
       "      <th>319</th>\n",
       "      <td>__label__信用卡</td>\n",
       "      <td>怎么分期付款啊</td>\n",
       "      <td>__label__信用卡</td>\n",
       "    </tr>\n",
       "    <tr>\n",
       "      <th>2747</th>\n",
       "      <td>__label__任性贷</td>\n",
       "      <td>任性贷的信用贷款，下款要多久时间</td>\n",
       "      <td>__label__任性贷</td>\n",
       "    </tr>\n",
       "    <tr>\n",
       "      <th>1457</th>\n",
       "      <td>__label__任性付</td>\n",
       "      <td>任性付是每一笔都上征信吗，申请也要查吗，使用也要上征信吗</td>\n",
       "      <td>__label__任性付</td>\n",
       "    </tr>\n",
       "    <tr>\n",
       "      <th>3214</th>\n",
       "      <td>__label__易付宝账户</td>\n",
       "      <td>易付宝身份证号码填写错误怎么修改</td>\n",
       "      <td>__label__易付宝账户</td>\n",
       "    </tr>\n",
       "    <tr>\n",
       "      <th>3203</th>\n",
       "      <td>__label__易付宝账户</td>\n",
       "      <td>易付宝实名认证里面的姓名和身份证还不是我怎么办</td>\n",
       "      <td>__label__易付宝账户</td>\n",
       "    </tr>\n",
       "    <tr>\n",
       "      <th>2966</th>\n",
       "      <td>__label__任性贷</td>\n",
       "      <td>你好我昨天一次性还了3笔的总额为什么现在看到的还有两笔在逾期</td>\n",
       "      <td>__label__理财</td>\n",
       "    </tr>\n",
       "  </tbody>\n",
       "</table>\n",
       "<p>1812 rows × 3 columns</p>\n",
       "</div>"
      ],
      "text/plain": [
       "           big_label               STANDARD_QUESTION            分类预测\n",
       "2779    __label__任性贷               为什么任性贷申请提现总是申请失败呢    __label__任性贷\n",
       "1131    __label__任性付                 你好，为什么我的任性付没法支付    __label__任性付\n",
       "1511    __label__任性付                     任性付绑定的卡可以换吗    __label__任性付\n",
       "2886    __label__任性贷                     任性贷一次最多能借多少    __label__任性贷\n",
       "5534     __label__理财                        怎么不显示变现贷     __label__理财\n",
       "5402     __label__理财                     请问，变现通现在还有吗     __label__理财\n",
       "4912    __label__零钱宝                    零钱宝转出需不需要手续费    __label__零钱宝\n",
       "4502    __label__苏宁卡                  电子卡，可以开具食品的发票么    __label__苏宁卡\n",
       "3740  __label__易付宝账户                          怎样解绑易购  __label__易付宝账户\n",
       "1676    __label__任性付                    任性贷人脸识别失败怎么办    __label__任性付\n",
       "3494  __label__易付宝账户                       易付宝账户能注销吗  __label__易付宝账户\n",
       "4383    __label__苏宁卡         预定款的机器支付尾款时可以使用苏宁礼品券支付吗     __label__支付\n",
       "5827     __label__支付                 这个订单付款了怎么还显示待支付     __label__支付\n",
       "1263    __label__任性付                        任性付还款时间是    __label__任性付\n",
       "2376    __label__任性贷         为什么我任性贷突然没有额度了，我从来没有逾期过    __label__任性贷\n",
       "5900  __label__易付宝账户                      高级实名认证还没结束  __label__易付宝账户\n",
       "286     __label__信用卡              选择的是信用卡付款，应该是信用卡分期    __label__信用卡\n",
       "2024    __label__任性贷                       有什么贷款的产品么     __label__理财\n",
       "4361    __label__苏宁卡                   每笔订单可以使用多少礼品卡    __label__苏宁卡\n",
       "3141  __label__易付宝账户                       易付宝如何初级认证  __label__易付宝账户\n",
       "1118    __label__任性付                      我为什么用不了任性付    __label__任性付\n",
       "5345     __label__理财           苏宁理财，定期理财固收和票据没有可以买的了     __label__理财\n",
       "321     __label__信用卡                         怎么分期付款呢    __label__信用卡\n",
       "2090    __label__任性贷                   怎么申请的任性贷还在授信中    __label__任性贷\n",
       "4076     __label__理财                          理财怎么购买     __label__理财\n",
       "29      __label__信用卡                         分期分6期多少    __label__信用卡\n",
       "553     __label__任性付                     申请任性付需要哪些材料    __label__任性付\n",
       "6017    __label__任性贷                    苏宁租机的还款方式有哪些    __label__任性贷\n",
       "5581     __label__理财             我的变现通，固守，安心盈等都显示无产品     __label__理财\n",
       "5767    __label__任性付           开通任性付的时候～跟我说姓名和电话号码不符    __label__任性付\n",
       "...              ...                             ...             ...\n",
       "670     __label__任性付                     任性付不支持买哪些商品    __label__任性付\n",
       "4316    __label__苏宁卡                        苏宁卡可以转让吗    __label__苏宁卡\n",
       "5496     __label__理财                    苏宁理财票据固收怎么没有     __label__理财\n",
       "2228    __label__任性贷                       为啥给我关了任性贷    __label__任性贷\n",
       "1107    __label__任性付                        没有任性付的选择    __label__任性付\n",
       "3928     __label__支付                     手机充值后如何获取发票    __label__苏宁卡\n",
       "4312    __label__苏宁卡                        礼品卡在哪里激活    __label__苏宁卡\n",
       "971     __label__任性付                     任性付现在不可以借了吗    __label__任性付\n",
       "437     __label__任性付                     任性付如何进行实名认证    __label__任性付\n",
       "1871    __label__任性付                      任性付能不能升额度呢    __label__任性付\n",
       "371     __label__信用卡                      这个可以信用卡分期吗    __label__信用卡\n",
       "4923    __label__零钱宝         零钱宝赎回一天了都没有到银行账户，请帮忙查一下    __label__零钱宝\n",
       "861     __label__任性付                       任性付系统升级多久    __label__任性付\n",
       "3763  __label__易付宝账户             易付宝是需要先从自己银行卡转账出来对吗  __label__易付宝账户\n",
       "1106    __label__任性付                    支付的时候选择不了任性付    __label__任性付\n",
       "2291    __label__任性贷                    我的任性贷额度怎么没有了    __label__任性贷\n",
       "1985    __label__任性付                  任性付欠款还清可以出示证明吗    __label__任性付\n",
       "245     __label__信用卡                  我选6期的话就是6分期个月吗    __label__信用卡\n",
       "4125     __label__理财                       兑换的理财券在哪查     __label__理财\n",
       "5301     __label__促销                   实名绑定为什么没收到优惠卷     __label__促销\n",
       "2611    __label__任性贷                    你好，我的任性贷能解冻吗    __label__任性贷\n",
       "4578     __label__保险                   账户安全险能保障我哪些资金     __label__保险\n",
       "2105    __label__任性贷                 你好，开通任性贷需要审核多久啊    __label__任性贷\n",
       "512     __label__任性付                 申请任性付开通，大概多久会通过    __label__任性付\n",
       "319     __label__信用卡                         怎么分期付款啊    __label__信用卡\n",
       "2747    __label__任性贷                任性贷的信用贷款，下款要多久时间    __label__任性贷\n",
       "1457    __label__任性付    任性付是每一笔都上征信吗，申请也要查吗，使用也要上征信吗    __label__任性付\n",
       "3214  __label__易付宝账户                易付宝身份证号码填写错误怎么修改  __label__易付宝账户\n",
       "3203  __label__易付宝账户         易付宝实名认证里面的姓名和身份证还不是我怎么办  __label__易付宝账户\n",
       "2966    __label__任性贷  你好我昨天一次性还了3笔的总额为什么现在看到的还有两笔在逾期     __label__理财\n",
       "\n",
       "[1812 rows x 3 columns]"
      ]
     },
     "execution_count": 56,
     "metadata": {},
     "output_type": "execute_result"
    }
   ],
   "source": [
    "testd[['big_label','STANDARD_QUESTION','分类预测']]"
   ]
  },
  {
   "cell_type": "code",
   "execution_count": 57,
   "metadata": {},
   "outputs": [],
   "source": [
    "from sklearn.metrics import classification_report\n",
    "from sklearn.preprocessing import LabelEncoder"
   ]
  },
  {
   "cell_type": "code",
   "execution_count": 58,
   "metadata": {},
   "outputs": [
    {
     "name": "stdout",
     "output_type": "stream",
     "text": [
      "                precision    recall  f1-score   support\n",
      "\n",
      "  __label__任性付       0.96      0.97      0.97       532\n",
      "  __label__任性贷       0.97      0.96      0.97       379\n",
      "   __label__促销       0.98      0.96      0.97        51\n",
      "   __label__保险       1.00      0.91      0.95        23\n",
      "  __label__信用卡       0.92      0.96      0.94       123\n",
      "   __label__支付       0.85      0.85      0.85        39\n",
      "__label__易付宝账户       0.94      0.97      0.95       240\n",
      "   __label__理财       0.95      1.00      0.97       213\n",
      "  __label__苏宁卡       0.98      0.97      0.97        92\n",
      "   __label__转账       0.92      0.76      0.83        29\n",
      "  __label__零钱宝       0.95      0.91      0.93        79\n",
      "   __label__风险       1.00      0.58      0.74        12\n",
      "\n",
      "   avg / total       0.96      0.96      0.96      1812\n",
      "\n"
     ]
    }
   ],
   "source": [
    "let_b = LabelEncoder()\n",
    "let_b.fit(testd['big_label'])\n",
    "list(let_b.classes_)\n",
    "y_true_b=let_b.transform(testd['big_label'])\n",
    "y_pred_b=let_b.transform(testd['分类预测'])\n",
    "print (classification_report(y_true_b,y_pred_b,target_names=list(let_b.classes_)))"
   ]
  },
  {
   "cell_type": "code",
   "execution_count": 59,
   "metadata": {},
   "outputs": [
    {
     "data": {
      "text/plain": [
       "0.9558498896247241"
      ]
     },
     "execution_count": 59,
     "metadata": {},
     "output_type": "execute_result"
    }
   ],
   "source": [
    "from sklearn.metrics import accuracy_score\n",
    "#accuracy_score(y_true, y_pred, normalize=False)\n",
    "accuracy_score(y_true_b, y_pred_b, normalize=True)"
   ]
  },
  {
   "cell_type": "markdown",
   "metadata": {},
   "source": [
    "#load训练好的模型\n",
    "classifier = fasttext.load_model('fasttext_class.model', label_prefix='__label__')\n",
    "\n",
    "\n",
    "testd['分类预测']=testd[\"STANDARD_QUESTION\"].astype(str).apply(lambda x:classifier.predict(splitsentence(x))[0][0])"
   ]
  },
  {
   "cell_type": "code",
   "execution_count": 67,
   "metadata": {},
   "outputs": [],
   "source": [
    "a = '__label__风险'"
   ]
  },
  {
   "cell_type": "code",
   "execution_count": 68,
   "metadata": {},
   "outputs": [
    {
     "data": {
      "text/plain": [
       "'风险'"
      ]
     },
     "execution_count": 68,
     "metadata": {},
     "output_type": "execute_result"
    }
   ],
   "source": [
    "import re\n",
    "b = str(a).replace('__label__','')\n",
    "b"
   ]
  },
  {
   "cell_type": "code",
   "execution_count": 69,
   "metadata": {},
   "outputs": [
    {
     "data": {
      "text/plain": [
       "'风险'"
      ]
     },
     "execution_count": 69,
     "metadata": {},
     "output_type": "execute_result"
    }
   ],
   "source": [
    "re.sub('__label__','',a)"
   ]
  },
  {
   "cell_type": "code",
   "execution_count": 78,
   "metadata": {},
   "outputs": [
    {
     "name": "stdout",
     "output_type": "stream",
     "text": [
      "支付 不成功 怎么回事 \n"
     ]
    },
    {
     "data": {
      "text/plain": [
       "'__label__支付'"
      ]
     },
     "execution_count": 78,
     "metadata": {},
     "output_type": "execute_result"
    }
   ],
   "source": [
    "classf_big.predict(makesentence('支付不成功怎么回事'))[0][0]"
   ]
  },
  {
   "cell_type": "code",
   "execution_count": 85,
   "metadata": {},
   "outputs": [
    {
     "name": "stdout",
     "output_type": "stream",
     "text": [
      "支付 不成功 怎么回事 \n"
     ]
    },
    {
     "data": {
      "text/plain": [
       "'__label__支付'"
      ]
     },
     "execution_count": 85,
     "metadata": {},
     "output_type": "execute_result"
    }
   ],
   "source": [
    "classf_big.predict(makesentence('支付不成功怎么回事'))[0][0]"
   ]
  },
  {
   "cell_type": "code",
   "execution_count": 84,
   "metadata": {},
   "outputs": [
    {
     "name": "stdout",
     "output_type": "stream",
     "text": [
      "亲 我的 易付宝 冻结 是 怎么回事 \n"
     ]
    },
    {
     "data": {
      "text/plain": [
       "'__label__易付宝账户'"
      ]
     },
     "execution_count": 84,
     "metadata": {},
     "output_type": "execute_result"
    }
   ],
   "source": [
    "classf_big.predict(makesentence('亲，我的易付宝冻结了，是怎么回事'))[0][0]"
   ]
  },
  {
   "cell_type": "code",
   "execution_count": 87,
   "metadata": {},
   "outputs": [
    {
     "name": "stdout",
     "output_type": "stream",
     "text": [
      "盗抢险 是什么 \n"
     ]
    },
    {
     "data": {
      "text/plain": [
       "(('__label__保险',), array([0.90707874]))"
      ]
     },
     "execution_count": 87,
     "metadata": {},
     "output_type": "execute_result"
    }
   ],
   "source": [
    "classf_big.predict(makesentence('盗抢险是什么'))"
   ]
  },
  {
   "cell_type": "code",
   "execution_count": 95,
   "metadata": {},
   "outputs": [
    {
     "name": "stdout",
     "output_type": "stream",
     "text": [
      "变现通 不能 用 吗 \n"
     ]
    },
    {
     "data": {
      "text/plain": [
       "'__label__理财'"
      ]
     },
     "execution_count": 95,
     "metadata": {},
     "output_type": "execute_result"
    }
   ],
   "source": [
    "classf_big.predict(makesentence('变现通不能用吗'))[0][0]"
   ]
  },
  {
   "cell_type": "code",
   "execution_count": 96,
   "metadata": {},
   "outputs": [
    {
     "name": "stdout",
     "output_type": "stream",
     "text": [
      "帮我 解绑银行卡 \n"
     ]
    },
    {
     "data": {
      "text/plain": [
       "'__label__易付宝账户'"
      ]
     },
     "execution_count": 96,
     "metadata": {},
     "output_type": "execute_result"
    }
   ],
   "source": [
    "classf_big.predict(makesentence('帮我解绑银行卡'))[0][0]"
   ]
  },
  {
   "cell_type": "code",
   "execution_count": 72,
   "metadata": {},
   "outputs": [],
   "source": [
    "classf_big.save_model('classf_knowledge1.model')"
   ]
  },
  {
   "cell_type": "markdown",
   "metadata": {},
   "source": [
    "## 针对fastText结果排序"
   ]
  },
  {
   "cell_type": "code",
   "execution_count": 97,
   "metadata": {},
   "outputs": [
    {
     "name": "stdout",
     "output_type": "stream",
     "text": [
      "帮我 解绑银行卡 \n"
     ]
    },
    {
     "data": {
      "text/plain": [
       "(('__label__易付宝账户',), array([0.99492538]))"
      ]
     },
     "execution_count": 97,
     "metadata": {},
     "output_type": "execute_result"
    }
   ],
   "source": [
    "classf_big.predict(makesentence('帮我解绑银行卡'))"
   ]
  },
  {
   "cell_type": "code",
   "execution_count": 98,
   "metadata": {},
   "outputs": [
    {
     "name": "stdout",
     "output_type": "stream",
     "text": [
      "变现通 不能 用 吗 \n"
     ]
    },
    {
     "data": {
      "text/plain": [
       "(('__label__理财',), array([0.92902267]))"
      ]
     },
     "execution_count": 98,
     "metadata": {},
     "output_type": "execute_result"
    }
   ],
   "source": [
    "classf_big.predict(makesentence('变现通不能用吗'))"
   ]
  },
  {
   "cell_type": "code",
   "execution_count": 99,
   "metadata": {},
   "outputs": [
    {
     "name": "stdout",
     "output_type": "stream",
     "text": [
      "怎么 开通 任性付 \n"
     ]
    },
    {
     "data": {
      "text/plain": [
       "(('__label__任性付',), array([1.00000536]))"
      ]
     },
     "execution_count": 99,
     "metadata": {},
     "output_type": "execute_result"
    }
   ],
   "source": [
    "classf_big.predict(makesentence('怎么开通任性付'))"
   ]
  },
  {
   "cell_type": "code",
   "execution_count": 100,
   "metadata": {},
   "outputs": [
    {
     "name": "stdout",
     "output_type": "stream",
     "text": [
      "任性付额度 多久 会涨 \n"
     ]
    },
    {
     "data": {
      "text/plain": [
       "(('__label__任性付',), array([0.9999994]))"
      ]
     },
     "execution_count": 100,
     "metadata": {},
     "output_type": "execute_result"
    }
   ],
   "source": [
    "classf_big.predict(makesentence('任性付额度多久会涨'))"
   ]
  },
  {
   "cell_type": "code",
   "execution_count": 101,
   "metadata": {},
   "outputs": [
    {
     "name": "stdout",
     "output_type": "stream",
     "text": [
      "盗抢险 是什么 \n"
     ]
    },
    {
     "data": {
      "text/plain": [
       "(('__label__保险',), array([0.90707874]))"
      ]
     },
     "execution_count": 101,
     "metadata": {},
     "output_type": "execute_result"
    }
   ],
   "source": [
    "classf_big.predict(makesentence('盗抢险是什么'))"
   ]
  },
  {
   "cell_type": "code",
   "execution_count": 102,
   "metadata": {},
   "outputs": [
    {
     "name": "stdout",
     "output_type": "stream",
     "text": [
      "今天 申请 信用贷款 什么时候 可以 到 \n"
     ]
    },
    {
     "data": {
      "text/plain": [
       "(('__label__理财',), array([0.74581945]))"
      ]
     },
     "execution_count": 102,
     "metadata": {},
     "output_type": "execute_result"
    }
   ],
   "source": [
    "classf_big.predict(makesentence('今天申请的信用贷款什么时候可以到'))"
   ]
  },
  {
   "cell_type": "code",
   "execution_count": 103,
   "metadata": {},
   "outputs": [
    {
     "name": "stdout",
     "output_type": "stream",
     "text": [
      "信用贷款 怎么 没有 放款 \n"
     ]
    },
    {
     "data": {
      "text/plain": [
       "(('__label__理财',), array([0.78852499]))"
      ]
     },
     "execution_count": 103,
     "metadata": {},
     "output_type": "execute_result"
    }
   ],
   "source": [
    "classf_big.predict(makesentence('信用贷款怎么没有放款'))"
   ]
  },
  {
   "cell_type": "code",
   "execution_count": 109,
   "metadata": {},
   "outputs": [
    {
     "name": "stdout",
     "output_type": "stream",
     "text": [
      "我有 一笔 订单 不是 本人 操作 支付 易付宝 也太 不安全 我是 徐州 消费 记录 是 南京 \n"
     ]
    },
    {
     "data": {
      "text/plain": [
       "(('__label__支付',), array([0.53822094]))"
      ]
     },
     "execution_count": 109,
     "metadata": {},
     "output_type": "execute_result"
    }
   ],
   "source": [
    "classf_big.predict(makesentence('我有一笔订单不是本人操作支付的、易付宝也太不安全了、我是徐州的、消费记录是南京的、'))"
   ]
  },
  {
   "cell_type": "code",
   "execution_count": null,
   "metadata": {},
   "outputs": [
    {
     "name": "stdout",
     "output_type": "stream",
     "text": [
      "输入测试问题：有提现额度怎么借不到账啊\n",
      "有 提现额度 怎么 借 不到 账 啊 \n",
      "cate 促销\n",
      "输入测试问题：信用贷有额度不能借是拒绝了吗\n",
      "信用 贷有 额度 不能 借是 拒绝 了吗 \n",
      "cate 任性付\n",
      "输入测试问题：有提现额度怎么借不到账啊\n",
      "有 提现额度 怎么 借 不到 账 啊 \n",
      "cate 促销\n",
      "输入测试问题：你好，任性贷提现显示操作存在风险是什么原因\n",
      "你好 任性贷 提现 显示 操作 存在 风险 是 什么原因 \n",
      "cate 任性贷\n",
      "输入测试问题：任性贷里面有一个信用贷款是怎么用\n",
      "任性贷 里面 有一个 信用贷款 是 怎么 用 \n",
      "cate 任性贷\n",
      "输入测试问题：任性贷分期还款不可以提前了吗\n",
      "任性贷 分期还款 不可以 提前 了吗 \n",
      "cate 任性贷\n"
     ]
    }
   ],
   "source": [
    "from time import time\n",
    "while True:\n",
    "    try:\n",
    "        text = input(\"输入测试问题：\")\n",
    "        time_start = time()\n",
    "        question_cut = makesentence(text)\n",
    "        cate=classf_big.predict(question_cut)[0][0]\n",
    "        cate = re.sub('__label__','',cate)\n",
    "        print(\"cate\", cate) \n",
    "    except Exception as e:\n",
    "        raise e"
   ]
  }
 ],
 "metadata": {
  "kernelspec": {
   "display_name": "Python 3",
   "language": "python",
   "name": "python3"
  },
  "language_info": {
   "codemirror_mode": {
    "name": "ipython",
    "version": 3
   },
   "file_extension": ".py",
   "mimetype": "text/x-python",
   "name": "python",
   "nbconvert_exporter": "python",
   "pygments_lexer": "ipython3",
   "version": "3.6.4"
  }
 },
 "nbformat": 4,
 "nbformat_minor": 2
}
