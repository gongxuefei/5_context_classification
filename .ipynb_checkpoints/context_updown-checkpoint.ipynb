{
 "cells": [
  {
   "cell_type": "code",
   "execution_count": 389,
   "metadata": {},
   "outputs": [],
   "source": [
    "from queue import Queue\n",
    "import time\n",
    "import sys\n",
    "import numpy as np"
   ]
  },
  {
   "cell_type": "code",
   "execution_count": 278,
   "metadata": {},
   "outputs": [],
   "source": [
    "# #使用queue作为存储对象的   队列存储结构\n",
    "# UserText={}\n",
    "# def context_queue(Text,userId,requesId,size=3):\n",
    "#     Text_Time=(Text,requesId,time.time())\n",
    "#     if userId in UserText.keys():\n",
    "#         if requesId not in UserText[userId]:\n",
    "#         pass\n",
    "#     else:\n",
    "#         UserText[userId]=Queue(size)\n",
    "#     UserText[userId].put(Text_Time)\n",
    "#     TextList=[]\n",
    "#     if not UserText[userId].empty() and UserText[userId].qsize()<=3:\n",
    "#         while not UserText[userId].empty():\n",
    "#             TextList.append(UserText[userId].get())\n",
    "#         if len(TextList)<3:\n",
    "#             for j in range(len(TextList)):\n",
    "#                 UserText[userId].put(TextList[j])\n",
    "#         else:\n",
    "#             for j in range(1,len(TextList),1):\n",
    "#                 UserText[userId].put(TextList[j])\n",
    "#         print(\"TextList\",TextList)\n",
    "#     else:\n",
    "#         print(\"no data\")\n",
    "#     return UserText\n",
    "# b=context_queue('4',1,110)"
   ]
  },
  {
   "cell_type": "code",
   "execution_count": 644,
   "metadata": {},
   "outputs": [],
   "source": [
    "def is_requesId(requesId,TextList):\n",
    "    #判断队列中是否是同一个session会话\n",
    "    for text in TextList:\n",
    "        if requesId in text:\n",
    "            return True\n",
    "        else:\n",
    "            return False\n",
    "\n",
    "def is_content(Text,TextList):\n",
    "    #判断队列中是否是同一个session会话\n",
    "    if len(TextList)>=2:\n",
    "        if Text in TextList[len(TextList)-1] and Text in TextList[len(TextList)-2]:\n",
    "            return True\n",
    "    else:\n",
    "        return False\n",
    "    \n",
    "#删除超时的队列数据（time_interval单位为时间）\n",
    "def delete_UserText(UserText,UserText_Time,time_interval=0.5):\n",
    "    if UserText:\n",
    "        now_time=time.time()\n",
    "        Time_np=np.array(list(UserText_Time.values()))\n",
    "        Timeout_queue=Time_np[:,1]<str(time.time()-time_interval*60*60)\n",
    "        result_time=np.column_stack((Time_np,Timeout_queue))\n",
    "        for ii in result_time:\n",
    "            if ii[2]==str(True):\n",
    "                if ii[0] in UserText.keys():\n",
    "                    UserText.pop(ii[0])\n",
    "                    UserText_Time.pop(ii[0])\n",
    "    return UserText,UserText_Time\n"
   ]
  },
  {
   "cell_type": "code",
   "execution_count": 645,
   "metadata": {},
   "outputs": [],
   "source": [
    "UserText={}\n",
    "UserText_Time={}\n",
    "def context_queue(Text,userId,requesId,size=3):\n",
    "    Text_session=(Text,requesId)\n",
    "    Time_session=(userId,time.time())\n",
    "    if userId in UserText.keys() and userId in UserText_Time.keys():\n",
    "        if is_requesId(requesId,UserText[userId]):\n",
    "            if is_content(Text,UserText[userId]):\n",
    "                print(\"重复三遍以上，转人工吧。。。\")\n",
    "                return \"转人工\",_\n",
    "        else:\n",
    "            UserText[userId].clear()\n",
    "    else:\n",
    "        UserText[userId]=[]\n",
    "        UserText_Time[userId]=[]\n",
    "    UserText[userId].append(Text_session)\n",
    "    UserText_Time[userId]=Time_session\n",
    "    if UserText[userId] is not None and len(UserText[userId])<=size:\n",
    "        pass\n",
    "    else:\n",
    "        UserText[userId].remove(UserText[userId][0])\n",
    "    print(\"TextList\",UserText[userId])\n",
    "    return UserText,UserText_Time"
   ]
  },
  {
   "cell_type": "code",
   "execution_count": 652,
   "metadata": {},
   "outputs": [
    {
     "name": "stdout",
     "output_type": "stream",
     "text": [
      "重复三遍以上，转人工吧。。。\n"
     ]
    }
   ],
   "source": [
    "result_text,result_time=context_queue('3','user3','re1')"
   ]
  },
  {
   "cell_type": "code",
   "execution_count": 655,
   "metadata": {},
   "outputs": [
    {
     "data": {
      "text/plain": [
       "{'user3': ('user3', 1532337832.4971647)}"
      ]
     },
     "execution_count": 655,
     "metadata": {},
     "output_type": "execute_result"
    }
   ],
   "source": [
    "result_text\n",
    "result_time"
   ]
  },
  {
   "cell_type": "code",
   "execution_count": 657,
   "metadata": {},
   "outputs": [
    {
     "data": {
      "text/plain": [
       "{'user3': [('2', 're1'), ('3', 're1'), ('3', 're1')]}"
      ]
     },
     "execution_count": 657,
     "metadata": {},
     "output_type": "execute_result"
    }
   ],
   "source": [
    "UserText"
   ]
  },
  {
   "cell_type": "code",
   "execution_count": 658,
   "metadata": {},
   "outputs": [
    {
     "data": {
      "text/plain": [
       "{'user3': ('user3', 1532337832.4971647)}"
      ]
     },
     "execution_count": 658,
     "metadata": {},
     "output_type": "execute_result"
    }
   ],
   "source": [
    "UserText_Time"
   ]
  },
  {
   "cell_type": "code",
   "execution_count": 609,
   "metadata": {},
   "outputs": [],
   "source": [
    "#定时清理存储过时的 队列数据"
   ]
  },
  {
   "cell_type": "code",
   "execution_count": 659,
   "metadata": {},
   "outputs": [],
   "source": [
    "b,c=delete_UserText(UserText,UserText_Time,time_interval=0.5)"
   ]
  },
  {
   "cell_type": "code",
   "execution_count": 660,
   "metadata": {},
   "outputs": [
    {
     "data": {
      "text/plain": [
       "{'user3': [('2', 're1'), ('3', 're1'), ('3', 're1')]}"
      ]
     },
     "execution_count": 660,
     "metadata": {},
     "output_type": "execute_result"
    }
   ],
   "source": [
    "b"
   ]
  },
  {
   "cell_type": "code",
   "execution_count": 661,
   "metadata": {},
   "outputs": [
    {
     "data": {
      "text/plain": [
       "{'user3': ('user3', 1532337832.4971647)}"
      ]
     },
     "execution_count": 661,
     "metadata": {},
     "output_type": "execute_result"
    }
   ],
   "source": [
    "c"
   ]
  },
  {
   "cell_type": "code",
   "execution_count": null,
   "metadata": {},
   "outputs": [],
   "source": []
  }
 ],
 "metadata": {
  "kernelspec": {
   "display_name": "Python 3",
   "language": "python",
   "name": "python3"
  },
  "language_info": {
   "codemirror_mode": {
    "name": "ipython",
    "version": 3
   },
   "file_extension": ".py",
   "mimetype": "text/x-python",
   "name": "python",
   "nbconvert_exporter": "python",
   "pygments_lexer": "ipython3",
   "version": "3.6.4"
  }
 },
 "nbformat": 4,
 "nbformat_minor": 2
}
