{
 "cells": [
  {
   "cell_type": "code",
   "execution_count": 2,
   "metadata": {},
   "outputs": [],
   "source": [
    "import time\n",
    "import sys\n",
    "import numpy as np\n",
    "\n",
    "\n",
    "class Context_Queue(object):\n",
    "    \"\"\"\n",
    "         功能：智能客服语义分析引擎-上下文存储机制队列\n",
    "         输入：\n",
    "         输出：\n",
    "         方法：构建存储上下文的队列\n",
    "    \"\"\"\n",
    "\n",
    "    def __init__(self,\n",
    "                 size=3,\n",
    "                 time_interval=0.5  # 小时为单位，超过time_interval时间未操作清除该数据\n",
    "                 ):\n",
    "        ###   STEP1：定义初始化数据  ###\n",
    "        self.size = size\n",
    "        self.time_interval = time_interval\n",
    "        self.UserText = {}\n",
    "        self.UserText_Time = {}\n",
    "\n",
    "    def is_requesId(self, requesId, userId_TextList):\n",
    "        # 判断队列中是否是同一个session会话\n",
    "        for text in userId_TextList:\n",
    "            if requesId in text:\n",
    "                return True\n",
    "            else:\n",
    "                return False\n",
    "\n",
    "    def is_content(self, Text, userId_TextList):\n",
    "        # 判断新传入得text是否与前两个队列数据相同\n",
    "        if len(userId_TextList) >= 2:\n",
    "            if Text in userId_TextList[len(userId_TextList) - 1] and Text in userId_TextList[len(userId_TextList) - 2]:\n",
    "                return True\n",
    "        else:\n",
    "            return False\n",
    "\n",
    "    # 删除超时的队列数据（time_interval单位为时间）\n",
    "    def delete_usertext(self):\n",
    "        if self.UserText:\n",
    "            now_time = time.time()\n",
    "            Time_np = np.array(list(self.UserText_Time.values()))\n",
    "            Timeout_queue = Time_np[:, 1] < str(now_time - self.time_interval * 60 * 60)\n",
    "            result_time = np.column_stack((Time_np, Timeout_queue))\n",
    "            for ii in result_time:\n",
    "                if ii[2] == str(True):\n",
    "                    if ii[0] in self.UserText.keys():\n",
    "                        self.UserText.pop(ii[0])\n",
    "                        self.UserText_Time.pop(ii[0])\n",
    "        # return UserText, UserText_Time\n",
    "        \n",
    "    def clear_all(self):\n",
    "        self.UserText.clear()\n",
    "        self.UserText_Time.clear()\n",
    "\n",
    "    def context_queue(self, Text, userId, requesId):\n",
    "        Text_session = (Text, requesId)\n",
    "        Time_session = (userId, time.time())\n",
    "        if userId in self.UserText.keys() and userId in self.UserText_Time.keys():\n",
    "            if self.is_requesId(requesId, self.UserText[userId]):\n",
    "                if self.is_content(Text, self.UserText[userId]):\n",
    "                    print(\"重复三遍以上，转人工吧。。。\")\n",
    "                    # return \"转人工\"\n",
    "            else:\n",
    "                self.UserText[userId].clear()\n",
    "        else:\n",
    "            self.UserText[userId] = []\n",
    "            self.UserText_Time[userId] = []\n",
    "        self.UserText[userId].append(Text_session)\n",
    "        self.UserText_Time[userId] = Time_session\n",
    "        if self.UserText[userId] is not None and len(self.UserText[userId]) <= self.size:\n",
    "            pass\n",
    "        else:\n",
    "            self.UserText[userId].remove(self.UserText[userId][0])\n",
    "        # print(\"TextList\", self.UserText[userId])\n",
    "        # return UserText, UserText_Time\n",
    "\n",
    "\n",
    "robot_context_queue = Context_Queue(size=3, time_interval=0.5)"
   ]
  },
  {
   "cell_type": "code",
   "execution_count": 3,
   "metadata": {},
   "outputs": [
    {
     "name": "stderr",
     "output_type": "stream",
     "text": [
      "Building prefix dict from the default dictionary ...\n",
      "Loading model from cache /tmp/jieba.cache\n",
      "Loading model cost 2.209 seconds.\n",
      "Prefix dict has been built succesfully.\n"
     ]
    }
   ],
   "source": [
    "import fastText as fasttext\n",
    "import jieba\n",
    "import re\n",
    "jieba.load_userdict('../sn_ori_data/finWordDict.txt')"
   ]
  },
  {
   "cell_type": "code",
   "execution_count": 4,
   "metadata": {},
   "outputs": [],
   "source": [
    "fasttext_model=fasttext.load_model('./sn_cate/classf_knowledge.model')"
   ]
  },
  {
   "cell_type": "code",
   "execution_count": 5,
   "metadata": {},
   "outputs": [],
   "source": [
    "stopwords = [line.strip() for line in open('../sn_ori_data/stop_words.txt', 'r', encoding='utf-8').readlines()]\n",
    "stopwords.append(' ')\n",
    "stopwords.append('\\n')\n",
    "stopwords.append('\\\\n')"
   ]
  },
  {
   "cell_type": "code",
   "execution_count": 6,
   "metadata": {},
   "outputs": [],
   "source": [
    "def jieba_cut(text):\n",
    "        \"\"\"\n",
    "            功能：调用结巴分词函数,去停用词\n",
    "            输入：标准问题\n",
    "            输出：问题分词后的List\n",
    "        \"\"\"\n",
    "        text_words = jieba.cut(text, cut_all=False)\n",
    "        text_list = [word for word in text_words if word not in stopwords]\n",
    "        return text_list\n",
    "\n",
    "def outstr_str(text):\n",
    "    outstr=''\n",
    "    for word in jieba_cut(text):\n",
    "        if word != '\\t':\n",
    "            outstr += word\n",
    "            outstr += \" \"\n",
    "    return outstr"
   ]
  },
  {
   "cell_type": "code",
   "execution_count": 7,
   "metadata": {},
   "outputs": [],
   "source": [
    "def fasttext_classification_single(text):\n",
    "    outstr = ''\n",
    "    for word in jieba_cut(text):\n",
    "        if word != '\\t':\n",
    "            outstr += word\n",
    "            outstr += \" \"\n",
    "    cate=fasttext_model.predict(outstr,k=2)\n",
    "    return cate"
   ]
  },
  {
   "cell_type": "code",
   "execution_count": 8,
   "metadata": {},
   "outputs": [],
   "source": [
    "cate1=fasttext_classification_single('你好')"
   ]
  },
  {
   "cell_type": "code",
   "execution_count": 460,
   "metadata": {},
   "outputs": [
    {
     "data": {
      "text/plain": [
       "(('__label__易付宝账户', '__label__理财'), array([0.92601335, 0.06774949]))"
      ]
     },
     "execution_count": 460,
     "metadata": {},
     "output_type": "execute_result"
    }
   ],
   "source": [
    "cate1"
   ]
  },
  {
   "cell_type": "code",
   "execution_count": 9,
   "metadata": {},
   "outputs": [],
   "source": [
    "def fasttext_classification_context(Text,userId,requesId,threshold=0.8):\n",
    "    robot_context_queue.context_queue(Text, userId, requesId)\n",
    "    print(\"robot_context_queue.UserText\",robot_context_queue.UserText)\n",
    "    len_userId_UserText=len(robot_context_queue.UserText[userId])\n",
    "    if len_userId_UserText==1:\n",
    "        text_0=robot_context_queue.UserText[userId][len_userId_UserText-1][0]       #当前输入值\n",
    "        outstr_0 = outstr_str(text_0)\n",
    "        cate_0=fasttext_model.predict(outstr_0,k=2)\n",
    "        print(\"outstr_0\",outstr_0)\n",
    "        print(\"cate_0\",cate_0)\n",
    "        cate = re.sub('__label__','',cate_0[0][0])\n",
    "        return cate\n",
    "    elif len_userId_UserText==2:\n",
    "        text_0=robot_context_queue.UserText[userId][len_userId_UserText-1][0]       #当前输入值\n",
    "        text_1=robot_context_queue.UserText[userId][len_userId_UserText-2][0]      #前一条数据\n",
    "        outstr_0 = outstr_str(text_0)\n",
    "        cate_0=fasttext_model.predict(outstr_0,k=2)\n",
    "        print(\"outstr_0\",outstr_0)\n",
    "        print(\"cate_0\",cate_0)\n",
    "        if cate_0[1][0]>=threshold:\n",
    "            cate = re.sub('__label__','',cate_0[0][0])\n",
    "            return cate\n",
    "        else:\n",
    "            text_01=text_1+text_0\n",
    "            outstr_01 = outstr_str(text_01)\n",
    "            cate_01=fasttext_model.predict(outstr_01,k=2)\n",
    "            print(\"outstr_01\",outstr_01)\n",
    "            print(\"cate_01\",cate_01)\n",
    "            cate=re.sub('__label__','',cate_01[0][0])\n",
    "            return cate\n",
    "    elif len_userId_UserText==3:\n",
    "        text_0=robot_context_queue.UserText[userId][len_userId_UserText-1][0]       #当前输入值\n",
    "        text_1=robot_context_queue.UserText[userId][len_userId_UserText-2][0]      #前一条数据\n",
    "        text_2=robot_context_queue.UserText[userId][len_userId_UserText-3][0]      #前前一条数据\n",
    "        outstr_0 = outstr_str(text_0)\n",
    "        cate_0=fasttext_model.predict(outstr_0,k=2)\n",
    "        print(\"outstr_0\",outstr_0)\n",
    "        print(\"cate_0\",cate_0)\n",
    "        if cate_0[1][0]>=threshold:\n",
    "            cate = re.sub('__label__','',cate_0[0][0])\n",
    "            return cate\n",
    "        else:\n",
    "            text_01=text_1+text_0\n",
    "            outstr_01 = outstr_str(text_01)\n",
    "            cate_01=fasttext_model.predict(outstr_01,k=2)\n",
    "            print(\"outstr_01\",outstr_01)\n",
    "            print(\"cate_01\",cate_01)\n",
    "            if cate_01[1][0]>=threshold:\n",
    "                cate=re.sub('__label__','',cate_01[0][0])\n",
    "                return cate\n",
    "            else:\n",
    "                text_012=text_2+text_1+text_0\n",
    "                outstr_012 = outstr_str(text_012)\n",
    "                cate_012=fasttext_model.predict(outstr_012,k=2)\n",
    "                print(\"outstr_012\",outstr_012)\n",
    "                print(\"cate_012\",cate_012)\n",
    "                cate=re.sub('__label__','',cate_012[0][0])\n",
    "                return cate\n",
    "    else:\n",
    "        cate=fasttext_classification_single(Text)\n",
    "        return cate"
   ]
  },
  {
   "cell_type": "code",
   "execution_count": 10,
   "metadata": {},
   "outputs": [
    {
     "name": "stdout",
     "output_type": "stream",
     "text": [
      "robot_context_queue.UserText {'1': [('解释一下吧', '111')]}\n",
      "outstr_0 解释一下 \n",
      "cate_0 (('__label__易付宝账户', '__label__理财'), array([0.92601335, 0.06774949]))\n"
     ]
    }
   ],
   "source": [
    "cate=fasttext_classification_context('解释一下吧','1','111')"
   ]
  },
  {
   "cell_type": "code",
   "execution_count": 11,
   "metadata": {},
   "outputs": [
    {
     "data": {
      "text/plain": [
       "'易付宝账户'"
      ]
     },
     "execution_count": 11,
     "metadata": {},
     "output_type": "execute_result"
    }
   ],
   "source": [
    "cate"
   ]
  },
  {
   "cell_type": "code",
   "execution_count": 12,
   "metadata": {},
   "outputs": [],
   "source": [
    "robot_context_queue.clear_all()"
   ]
  },
  {
   "cell_type": "code",
   "execution_count": 13,
   "metadata": {},
   "outputs": [
    {
     "data": {
      "text/plain": [
       "{}"
      ]
     },
     "execution_count": 13,
     "metadata": {},
     "output_type": "execute_result"
    }
   ],
   "source": [
    "robot_context_queue.UserText"
   ]
  },
  {
   "cell_type": "code",
   "execution_count": null,
   "metadata": {},
   "outputs": [],
   "source": []
  }
 ],
 "metadata": {
  "kernelspec": {
   "display_name": "Python 3",
   "language": "python",
   "name": "python3"
  },
  "language_info": {
   "codemirror_mode": {
    "name": "ipython",
    "version": 3
   },
   "file_extension": ".py",
   "mimetype": "text/x-python",
   "name": "python",
   "nbconvert_exporter": "python",
   "pygments_lexer": "ipython3",
   "version": "3.6.4"
  }
 },
 "nbformat": 4,
 "nbformat_minor": 2
}
